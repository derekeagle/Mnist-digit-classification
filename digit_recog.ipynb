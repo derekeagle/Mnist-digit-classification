{
 "cells": [
  {
   "cell_type": "code",
   "execution_count": 35,
   "metadata": {},
   "outputs": [
    {
     "name": "stdout",
     "output_type": "stream",
     "text": [
      "1.9.0+cu111\n"
     ]
    }
   ],
   "source": [
    "import math, time \n",
    "import matplotlib.pyplot as plt\n",
    "import numpy as np \n",
    "import pandas as pd\n",
    "\n",
    "import torch\n",
    "import torchvision.datasets as datasets\n",
    "print(torch.__version__)"
   ]
  },
  {
   "cell_type": "code",
   "execution_count": 12,
   "metadata": {},
   "outputs": [],
   "source": [
    "# digits = datasets.load_digits()\n",
    "\n",
    "\n",
    "mnist_trainset = datasets.MNIST(root='./data', train=True, download=True, transform=None)\n",
    "mnist_testset = datasets.MNIST(root='./data', train=False, download=True, transform=None)"
   ]
  },
  {
   "cell_type": "code",
   "execution_count": 14,
   "metadata": {},
   "outputs": [
    {
     "name": "stdout",
     "output_type": "stream",
     "text": [
      "train=60000,test=10000\n"
     ]
    }
   ],
   "source": [
    "print(f\"train={len(mnist_trainset)},test={len(mnist_testset)}\")"
   ]
  },
  {
   "cell_type": "code",
   "execution_count": null,
   "metadata": {},
   "outputs": [],
   "source": []
  },
  {
   "cell_type": "code",
   "execution_count": 145,
   "metadata": {},
   "outputs": [
    {
     "data": {
      "image/png": "[encoded data removed]",
      "text/plain": [
       "<Figure size 576x288 with 8 Axes>"
      ]
     },
     "metadata": {
      "needs_background": "light"
     },
     "output_type": "display_data"
    }
   ],
   "source": [
    "image_sample=[]\n",
    "label_sample=[]\n",
    "row=2\n",
    "col=4\n",
    "for i in range(0,row*col):\n",
    "    img,label=mnist_trainset[i]\n",
    "    #print(item)\n",
    "    #print(label)\n",
    "    image_sample.append(img)\n",
    "    label_sample.append(label)\n",
    "\n",
    "fig, axes = plt.subplots(nrows=row, ncols=col, figsize=(8, 4))\n",
    "\n",
    "#for ax, image, label in zip(axes, image_sample, label_sample):\n",
    "for i in range(0,row):\n",
    "    for j in range(0,col):\n",
    "        ax= axes[i][j]\n",
    "        ax.set_axis_off()\n",
    "        image=image_sample[i*col+j]\n",
    "        label=label_sample[i*col+j]\n",
    "        #ax.imshow(image, cmap=plt.cm.gray_r, interpolation='nearest')\n",
    "        ax.imshow(image, cmap=plt.cm.gray, interpolation='nearest')\n",
    "        ax.set_title('Training: %i' % label)\n",
    "plt.show()\n",
    "\n"
   ]
  },
  {
   "cell_type": "code",
   "execution_count": 127,
   "metadata": {},
   "outputs": [
    {
     "name": "stdout",
     "output_type": "stream",
     "text": [
      "(10000, 784)\n",
      "[  0   0   0   0   0   0   0   0   0   0   0   0   0   0   0   0   0   0\n",
      "   0   0   0   0   0   0   0   0   0   0   0   0   0   0   0   0   0   0\n",
      "   0   0   0   0   0   0   0   0   0   0   0   0   0   0   0   0   0   0\n",
      "   0   0   0   0   0   0   0   0   0   0   0   0   0   0   0   0   0   0\n",
      "   0   0   0   0   0   0   0   0   0   0   0   0   0   0   0   0   0   0\n",
      "   0   0   0   0   0   0   0   0   0   0   0   0   0   0   0   0   0   0\n",
      "   0   0   0   0   0   0   0   0   0   0   0   0   0   0   0   0   0   0\n",
      "   0   0   0   0   0   0   0   0   0   0   0   0   0   0   0   0   0   0\n",
      "   0   0   0   0   0   0   0   0   0  64 253 193  37   0   0   0   0   0\n",
      "   0   0   0   0   0   0   0   0   0   0   0   0   0   0   0   0   0   0\n",
      "  16 206 252 222  16   0   0   0   0   0   0  80   0   0   0   0   0   0\n",
      "   0   0   0   0   0   0   0   0   0   8 129 252 252 247  53   0   0   0\n",
      "   0   0  73 200  35   0   0   0   0   0   0   0   0   0   0   0   0   0\n",
      "  18 181 252 252 252 222  16   0   0   0   0  36 241 205  11   0   0   0\n",
      "   0   0   0   0   0   0   0   0   0   0  80 242 252 252 208 129  11   0\n",
      "   0   0  18 141 249 226  24   0   0   0   0   0   0   0   0   0   0   0\n",
      "  38 192 254 253 253 243  35   0   0   0   0   0 123 253 253 190   0   0\n",
      "   0   0   0   0   0   0   0   0   0  87 206 252 253 252 201  47   0   0\n",
      "   0   0  57 173 253 252 252 110   0   0   0   0   0   0   0   0   0   0\n",
      "  87 251 252 252 253 252 189 101  22  39  48  75 166 252 253 252 224  42\n",
      "   0   0   0   0   0   0   0   0   0   0 190 252 252 252 253 252 252 252\n",
      " 252 253 252 252 252 252 253 252  47   0   0   0   0   0   0   0   0   0\n",
      "   0  18 216 252 252 252 253 252 252 252 252 253 252 252 252 252 253 217\n",
      "  74   0   0   0   0   0   0   0   0   0   0   0  80 158 211 229 254 253\n",
      " 253 253 253 255 253 253 253 253 255 107   0   0   0   0   0   0   0   0\n",
      "   0   0   0   0   0   0   0  27  63  63 116 168 203 253 252 252 252 137\n",
      "  63  16   0   0   0   0   0   0   0   0   0   0   0   0   0   0   0   0\n",
      "   0   0   0   0  18 209 252 252 212  21   0   0   0   0   0   0   0   0\n",
      "   0   0   0   0   0   0   0   0   0   0   0   0   0   0 176 253 252 238\n",
      "  28   0   0   0   0   0   0   0   0   0   0   0   0   0   0   0   0   0\n",
      "   0   0   0   0   0  71 228 253 252  99   0   0   0   0   0   0   0   0\n",
      "   0   0   0   0   0   0   0   0   0   0   0   0   0   0   0 126 253 255\n",
      " 222  17   0   0   0   0   0   0   0   0   0   0   0   0   0   0   0   0\n",
      "   0   0   0   0   0   0 131 232 252 186  16   0   0   0   0   0   0   0\n",
      "   0   0   0   0   0   0   0   0   0   0   0   0   0   0   4  57 198 252\n",
      " 244  53   0   0   0   0   0   0   0   0   0   0   0   0   0   0   0   0\n",
      "   0   0   0   0   0   0  43 252 252 236  66   0   0   0   0   0   0   0\n",
      "   0   0   0   0   0   0   0   0   0   0   0   0   0   0   0   0  43 252\n",
      " 199 111   0   0   0   0   0   0   0   0   0   0   0   0   0   0   0   0\n",
      "   0   0   0   0   0   0   0   0   0   0   0   0   0   0   0   0   0   0\n",
      "   0   0   0   0   0   0   0   0   0   0   0   0   0   0   0   0   0   0\n",
      "   0   0   0   0   0   0   0   0   0   0   0   0   0   0   0   0   0   0\n",
      "   0   0   0   0   0   0   0   0   0   0   0   0   0   0   0   0   0   0\n",
      "   0   0   0   0   0   0   0   0   0   0]\n"
     ]
    }
   ],
   "source": [
    "import random\n",
    "train_X=[]\n",
    "train_y=[]\n",
    "test_X=[]\n",
    "test_y=[]\n",
    "train_size=10000\n",
    "test_size=1000\n",
    "idx_train = [random.randint(0,len(mnist_trainset)-1) for _ in range(train_size)]\n",
    "idx_test = [random.randint(0,len(mnist_testset)-1) for _ in range(test_size)]\n",
    "\n",
    "for i in idx_train:\n",
    "    img,label=mnist_trainset[i]\n",
    "    train_X.append(np.asarray(img).ravel())\n",
    "    train_y.append(label)\n",
    "\n",
    "for i in idx_test:\n",
    "    img,label=mnist_testset[i]\n",
    "    test_X.append(np.asarray(img).ravel())\n",
    "    test_y.append(label)\n",
    "\n",
    "\n",
    "\n",
    "train_X = np.asarray(train_X)\n",
    "test_X=np.asarray(test_X)\n",
    "print(train_X.shape)\n",
    "print(train_X[0])"
   ]
  },
  {
   "cell_type": "code",
   "execution_count": 57,
   "metadata": {},
   "outputs": [
    {
     "name": "stdout",
     "output_type": "stream",
     "text": [
      "Training done.\n",
      "              precision    recall  f1-score   support\n",
      "\n",
      "           0       0.92      0.98      0.95        86\n",
      "           1       0.99      0.98      0.99       108\n",
      "           2       0.91      0.92      0.92        88\n",
      "           3       0.96      0.89      0.92       100\n",
      "           4       0.97      0.97      0.97       109\n",
      "           5       0.95      0.91      0.93        96\n",
      "           6       0.95      0.95      0.95        98\n",
      "           7       0.85      0.93      0.89        99\n",
      "           8       0.95      0.92      0.94       105\n",
      "           9       0.93      0.93      0.93       111\n",
      "\n",
      "    accuracy                           0.94      1000\n",
      "   macro avg       0.94      0.94      0.94      1000\n",
      "weighted avg       0.94      0.94      0.94      1000\n",
      "\n"
     ]
    }
   ],
   "source": [
    "import numpy as np\n",
    "from sklearn.pipeline import make_pipeline\n",
    "from sklearn import tree\n",
    "from sklearn import svm\n",
    "from sklearn.preprocessing import StandardScaler\n",
    "from sklearn.linear_model import LogisticRegression\n",
    "from sklearn.metrics import classification_report\n",
    "\n",
    "clf =  make_pipeline(StandardScaler(),svm.SVC(kernel='rbf',gamma='auto',probability=True))\n",
    "clf.fit(train_X, train_y)\n",
    "print(\"Training done.\")\n",
    "y_pred=clf.predict(test_X)\n",
    "rslt = classification_report(test_y, y_pred)\n",
    "print(rslt)"
   ]
  },
  {
   "cell_type": "code",
   "execution_count": 58,
   "metadata": {},
   "outputs": [
    {
     "name": "stdout",
     "output_type": "stream",
     "text": [
      "(1000, 10)\n"
     ]
    }
   ],
   "source": [
    "pred_probas=clf.predict_proba(test_X)\n",
    "print(pred_probas.shape)"
   ]
  },
  {
   "cell_type": "code",
   "execution_count": 98,
   "metadata": {},
   "outputs": [
    {
     "name": "stdout",
     "output_type": "stream",
     "text": [
      "\n"
     ]
    },
    {
     "data": {
      "application/vnd.plotly.v1+json": {
       "config": {
        "plotlyServerURL": "https://plot.ly"
       },
       "data": [
        {
         "marker": {
          "color": 0
         },
         "name": "e0",
         "nbinsx": 10,
         "opacity": 0.5,
         "type": "histogram",
         "x": [
          4,
          6
         ]
        },
        {
         "marker": {
          "color": 1
         },
         "name": "e1",
         "nbinsx": 10,
         "opacity": 0.5,
         "type": "histogram",
         "x": [
          6,
          6
         ]
        },
        {
         "marker": {
          "color": 2
         },
         "name": "e2",
         "nbinsx": 10,
         "opacity": 0.5,
         "type": "histogram",
         "x": [
          7,
          9,
          3,
          8,
          0,
          7,
          6
         ]
        },
        {
         "marker": {
          "color": 3
         },
         "name": "e3",
         "nbinsx": 10,
         "opacity": 0.5,
         "type": "histogram",
         "x": [
          5,
          7,
          2,
          5,
          8,
          7,
          2,
          9,
          5,
          8,
          2
         ]
        },
        {
         "marker": {
          "color": 4
         },
         "name": "e4",
         "nbinsx": 10,
         "opacity": 0.5,
         "type": "histogram",
         "x": [
          2,
          6,
          0
         ]
        },
        {
         "marker": {
          "color": 5
         },
         "name": "e5",
         "nbinsx": 10,
         "opacity": 0.5,
         "type": "histogram",
         "x": [
          8,
          3,
          0,
          3,
          7,
          0,
          3,
          9,
          8
         ]
        },
        {
         "marker": {
          "color": 6
         },
         "name": "e6",
         "nbinsx": 10,
         "opacity": 0.5,
         "type": "histogram",
         "x": [
          0,
          7,
          4,
          5,
          4
         ]
        },
        {
         "marker": {
          "color": 7
         },
         "name": "e7",
         "nbinsx": 10,
         "opacity": 0.5,
         "type": "histogram",
         "x": [
          9,
          9,
          9,
          9,
          9,
          2,
          1
         ]
        },
        {
         "marker": {
          "color": 8
         },
         "name": "e8",
         "nbinsx": 10,
         "opacity": 0.5,
         "type": "histogram",
         "x": [
          7,
          0,
          2,
          7,
          0,
          2,
          5,
          2
         ]
        },
        {
         "marker": {
          "color": 9
         },
         "name": "e9",
         "nbinsx": 10,
         "opacity": 0.5,
         "type": "histogram",
         "x": [
          7,
          7,
          7,
          7,
          7,
          7,
          7,
          7
         ]
        }
       ],
       "layout": {
        "template": {
         "data": {
          "bar": [
           {
            "error_x": {
             "color": "#2a3f5f"
            },
            "error_y": {
             "color": "#2a3f5f"
            },
            "marker": {
             "line": {
              "color": "#E5ECF6",
              "width": 0.5
             },
             "pattern": {
              "fillmode": "overlay",
              "size": 10,
              "solidity": 0.2
             }
            },
            "type": "bar"
           }
          ],
          "barpolar": [
           {
            "marker": {
             "line": {
              "color": "#E5ECF6",
              "width": 0.5
             },
             "pattern": {
              "fillmode": "overlay",
              "size": 10,
              "solidity": 0.2
             }
            },
            "type": "barpolar"
           }
          ],
          "carpet": [
           {
            "aaxis": {
             "endlinecolor": "#2a3f5f",
             "gridcolor": "white",
             "linecolor": "white",
             "minorgridcolor": "white",
             "startlinecolor": "#2a3f5f"
            },
            "baxis": {
             "endlinecolor": "#2a3f5f",
             "gridcolor": "white",
             "linecolor": "white",
             "minorgridcolor": "white",
             "startlinecolor": "#2a3f5f"
            },
            "type": "carpet"
           }
          ],
          "choropleth": [
           {
            "colorbar": {
             "outlinewidth": 0,
             "ticks": ""
            },
            "type": "choropleth"
           }
          ],
          "contour": [
           {
            "colorbar": {
             "outlinewidth": 0,
             "ticks": ""
            },
            "colorscale": [
             [
              0,
              "#0d0887"
             ],
             [
              0.1111111111111111,
              "#46039f"
             ],
             [
              0.2222222222222222,
              "#7201a8"
             ],
             [
              0.3333333333333333,
              "#9c179e"
             ],
             [
              0.4444444444444444,
              "#bd3786"
             ],
             [
              0.5555555555555556,
              "#d8576b"
             ],
             [
              0.6666666666666666,
              "#ed7953"
             ],
             [
              0.7777777777777778,
              "#fb9f3a"
             ],
             [
              0.8888888888888888,
              "#fdca26"
             ],
             [
              1,
              "#f0f921"
             ]
            ],
            "type": "contour"
           }
          ],
          "contourcarpet": [
           {
            "colorbar": {
             "outlinewidth": 0,
             "ticks": ""
            },
            "type": "contourcarpet"
           }
          ],
          "heatmap": [
           {
            "colorbar": {
             "outlinewidth": 0,
             "ticks": ""
            },
            "colorscale": [
             [
              0,
              "#0d0887"
             ],
             [
              0.1111111111111111,
              "#46039f"
             ],
             [
              0.2222222222222222,
              "#7201a8"
             ],
             [
              0.3333333333333333,
              "#9c179e"
             ],
             [
              0.4444444444444444,
              "#bd3786"
             ],
             [
              0.5555555555555556,
              "#d8576b"
             ],
             [
              0.6666666666666666,
              "#ed7953"
             ],
             [
              0.7777777777777778,
              "#fb9f3a"
             ],
             [
              0.8888888888888888,
              "#fdca26"
             ],
             [
              1,
              "#f0f921"
             ]
            ],
            "type": "heatmap"
           }
          ],
          "heatmapgl": [
           {
            "colorbar": {
             "outlinewidth": 0,
             "ticks": ""
            },
            "colorscale": [
             [
              0,
              "#0d0887"
             ],
             [
              0.1111111111111111,
              "#46039f"
             ],
             [
              0.2222222222222222,
              "#7201a8"
             ],
             [
              0.3333333333333333,
              "#9c179e"
             ],
             [
              0.4444444444444444,
              "#bd3786"
             ],
             [
              0.5555555555555556,
              "#d8576b"
             ],
             [
              0.6666666666666666,
              "#ed7953"
             ],
             [
              0.7777777777777778,
              "#fb9f3a"
             ],
             [
              0.8888888888888888,
              "#fdca26"
             ],
             [
              1,
              "#f0f921"
             ]
            ],
            "type": "heatmapgl"
           }
          ],
          "histogram": [
           {
            "marker": {
             "pattern": {
              "fillmode": "overlay",
              "size": 10,
              "solidity": 0.2
             }
            },
            "type": "histogram"
           }
          ],
          "histogram2d": [
           {
            "colorbar": {
             "outlinewidth": 0,
             "ticks": ""
            },
            "colorscale": [
             [
              0,
              "#0d0887"
             ],
             [
              0.1111111111111111,
              "#46039f"
             ],
             [
              0.2222222222222222,
              "#7201a8"
             ],
             [
              0.3333333333333333,
              "#9c179e"
             ],
             [
              0.4444444444444444,
              "#bd3786"
             ],
             [
              0.5555555555555556,
              "#d8576b"
             ],
             [
              0.6666666666666666,
              "#ed7953"
             ],
             [
              0.7777777777777778,
              "#fb9f3a"
             ],
             [
              0.8888888888888888,
              "#fdca26"
             ],
             [
              1,
              "#f0f921"
             ]
            ],
            "type": "histogram2d"
           }
          ],
          "histogram2dcontour": [
           {
            "colorbar": {
             "outlinewidth": 0,
             "ticks": ""
            },
            "colorscale": [
             [
              0,
              "#0d0887"
             ],
             [
              0.1111111111111111,
              "#46039f"
             ],
             [
              0.2222222222222222,
              "#7201a8"
             ],
             [
              0.3333333333333333,
              "#9c179e"
             ],
             [
              0.4444444444444444,
              "#bd3786"
             ],
             [
              0.5555555555555556,
              "#d8576b"
             ],
             [
              0.6666666666666666,
              "#ed7953"
             ],
             [
              0.7777777777777778,
              "#fb9f3a"
             ],
             [
              0.8888888888888888,
              "#fdca26"
             ],
             [
              1,
              "#f0f921"
             ]
            ],
            "type": "histogram2dcontour"
           }
          ],
          "mesh3d": [
           {
            "colorbar": {
             "outlinewidth": 0,
             "ticks": ""
            },
            "type": "mesh3d"
           }
          ],
          "parcoords": [
           {
            "line": {
             "colorbar": {
              "outlinewidth": 0,
              "ticks": ""
             }
            },
            "type": "parcoords"
           }
          ],
          "pie": [
           {
            "automargin": true,
            "type": "pie"
           }
          ],
          "scatter": [
           {
            "marker": {
             "colorbar": {
              "outlinewidth": 0,
              "ticks": ""
             }
            },
            "type": "scatter"
           }
          ],
          "scatter3d": [
           {
            "line": {
             "colorbar": {
              "outlinewidth": 0,
              "ticks": ""
             }
            },
            "marker": {
             "colorbar": {
              "outlinewidth": 0,
              "ticks": ""
             }
            },
            "type": "scatter3d"
           }
          ],
          "scattercarpet": [
           {
            "marker": {
             "colorbar": {
              "outlinewidth": 0,
              "ticks": ""
             }
            },
            "type": "scattercarpet"
           }
          ],
          "scattergeo": [
           {
            "marker": {
             "colorbar": {
              "outlinewidth": 0,
              "ticks": ""
             }
            },
            "type": "scattergeo"
           }
          ],
          "scattergl": [
           {
            "marker": {
             "colorbar": {
              "outlinewidth": 0,
              "ticks": ""
             }
            },
            "type": "scattergl"
           }
          ],
          "scattermapbox": [
           {
            "marker": {
             "colorbar": {
              "outlinewidth": 0,
              "ticks": ""
             }
            },
            "type": "scattermapbox"
           }
          ],
          "scatterpolar": [
           {
            "marker": {
             "colorbar": {
              "outlinewidth": 0,
              "ticks": ""
             }
            },
            "type": "scatterpolar"
           }
          ],
          "scatterpolargl": [
           {
            "marker": {
             "colorbar": {
              "outlinewidth": 0,
              "ticks": ""
             }
            },
            "type": "scatterpolargl"
           }
          ],
          "scatterternary": [
           {
            "marker": {
             "colorbar": {
              "outlinewidth": 0,
              "ticks": ""
             }
            },
            "type": "scatterternary"
           }
          ],
          "surface": [
           {
            "colorbar": {
             "outlinewidth": 0,
             "ticks": ""
            },
            "colorscale": [
             [
              0,
              "#0d0887"
             ],
             [
              0.1111111111111111,
              "#46039f"
             ],
             [
              0.2222222222222222,
              "#7201a8"
             ],
             [
              0.3333333333333333,
              "#9c179e"
             ],
             [
              0.4444444444444444,
              "#bd3786"
             ],
             [
              0.5555555555555556,
              "#d8576b"
             ],
             [
              0.6666666666666666,
              "#ed7953"
             ],
             [
              0.7777777777777778,
              "#fb9f3a"
             ],
             [
              0.8888888888888888,
              "#fdca26"
             ],
             [
              1,
              "#f0f921"
             ]
            ],
            "type": "surface"
           }
          ],
          "table": [
           {
            "cells": {
             "fill": {
              "color": "#EBF0F8"
             },
             "line": {
              "color": "white"
             }
            },
            "header": {
             "fill": {
              "color": "#C8D4E3"
             },
             "line": {
              "color": "white"
             }
            },
            "type": "table"
           }
          ]
         },
         "layout": {
          "annotationdefaults": {
           "arrowcolor": "#2a3f5f",
           "arrowhead": 0,
           "arrowwidth": 1
          },
          "autotypenumbers": "strict",
          "coloraxis": {
           "colorbar": {
            "outlinewidth": 0,
            "ticks": ""
           }
          },
          "colorscale": {
           "diverging": [
            [
             0,
             "#8e0152"
            ],
            [
             0.1,
             "#c51b7d"
            ],
            [
             0.2,
             "#de77ae"
            ],
            [
             0.3,
             "#f1b6da"
            ],
            [
             0.4,
             "#fde0ef"
            ],
            [
             0.5,
             "#f7f7f7"
            ],
            [
             0.6,
             "#e6f5d0"
            ],
            [
             0.7,
             "#b8e186"
            ],
            [
             0.8,
             "#7fbc41"
            ],
            [
             0.9,
             "#4d9221"
            ],
            [
             1,
             "#276419"
            ]
           ],
           "sequential": [
            [
             0,
             "#0d0887"
            ],
            [
             0.1111111111111111,
             "#46039f"
            ],
            [
             0.2222222222222222,
             "#7201a8"
            ],
            [
             0.3333333333333333,
             "#9c179e"
            ],
            [
             0.4444444444444444,
             "#bd3786"
            ],
            [
             0.5555555555555556,
             "#d8576b"
            ],
            [
             0.6666666666666666,
             "#ed7953"
            ],
            [
             0.7777777777777778,
             "#fb9f3a"
            ],
            [
             0.8888888888888888,
             "#fdca26"
            ],
            [
             1,
             "#f0f921"
            ]
           ],
           "sequentialminus": [
            [
             0,
             "#0d0887"
            ],
            [
             0.1111111111111111,
             "#46039f"
            ],
            [
             0.2222222222222222,
             "#7201a8"
            ],
            [
             0.3333333333333333,
             "#9c179e"
            ],
            [
             0.4444444444444444,
             "#bd3786"
            ],
            [
             0.5555555555555556,
             "#d8576b"
            ],
            [
             0.6666666666666666,
             "#ed7953"
            ],
            [
             0.7777777777777778,
             "#fb9f3a"
            ],
            [
             0.8888888888888888,
             "#fdca26"
            ],
            [
             1,
             "#f0f921"
            ]
           ]
          },
          "colorway": [
           "#636efa",
           "#EF553B",
           "#00cc96",
           "#ab63fa",
           "#FFA15A",
           "#19d3f3",
           "#FF6692",
           "#B6E880",
           "#FF97FF",
           "#FECB52"
          ],
          "font": {
           "color": "#2a3f5f"
          },
          "geo": {
           "bgcolor": "white",
           "lakecolor": "white",
           "landcolor": "#E5ECF6",
           "showlakes": true,
           "showland": true,
           "subunitcolor": "white"
          },
          "hoverlabel": {
           "align": "left"
          },
          "hovermode": "closest",
          "mapbox": {
           "style": "light"
          },
          "paper_bgcolor": "white",
          "plot_bgcolor": "#E5ECF6",
          "polar": {
           "angularaxis": {
            "gridcolor": "white",
            "linecolor": "white",
            "ticks": ""
           },
           "bgcolor": "#E5ECF6",
           "radialaxis": {
            "gridcolor": "white",
            "linecolor": "white",
            "ticks": ""
           }
          },
          "scene": {
           "xaxis": {
            "backgroundcolor": "#E5ECF6",
            "gridcolor": "white",
            "gridwidth": 2,
            "linecolor": "white",
            "showbackground": true,
            "ticks": "",
            "zerolinecolor": "white"
           },
           "yaxis": {
            "backgroundcolor": "#E5ECF6",
            "gridcolor": "white",
            "gridwidth": 2,
            "linecolor": "white",
            "showbackground": true,
            "ticks": "",
            "zerolinecolor": "white"
           },
           "zaxis": {
            "backgroundcolor": "#E5ECF6",
            "gridcolor": "white",
            "gridwidth": 2,
            "linecolor": "white",
            "showbackground": true,
            "ticks": "",
            "zerolinecolor": "white"
           }
          },
          "shapedefaults": {
           "line": {
            "color": "#2a3f5f"
           }
          },
          "ternary": {
           "aaxis": {
            "gridcolor": "white",
            "linecolor": "white",
            "ticks": ""
           },
           "baxis": {
            "gridcolor": "white",
            "linecolor": "white",
            "ticks": ""
           },
           "bgcolor": "#E5ECF6",
           "caxis": {
            "gridcolor": "white",
            "linecolor": "white",
            "ticks": ""
           }
          },
          "title": {
           "x": 0.05
          },
          "xaxis": {
           "automargin": true,
           "gridcolor": "white",
           "linecolor": "white",
           "ticks": "",
           "title": {
            "standoff": 15
           },
           "zerolinecolor": "white",
           "zerolinewidth": 2
          },
          "yaxis": {
           "automargin": true,
           "gridcolor": "white",
           "linecolor": "white",
           "ticks": "",
           "title": {
            "standoff": 15
           },
           "zerolinecolor": "white",
           "zerolinewidth": 2
          }
         }
        }
       }
      },
      "text/html": [
       "<div>                            <div id=\"00c3a4fb-01b4-4980-9604-1fd944c21be2\" class=\"plotly-graph-div\" style=\"height:525px; width:100%;\"></div>            <script type=\"text/javascript\">                require([\"plotly\"], function(Plotly) {                    window.PLOTLYENV=window.PLOTLYENV || {};                                    if (document.getElementById(\"00c3a4fb-01b4-4980-9604-1fd944c21be2\")) {                    Plotly.newPlot(                        \"00c3a4fb-01b4-4980-9604-1fd944c21be2\",                        [{\"marker\":{\"color\":0},\"name\":\"e0\",\"nbinsx\":10,\"opacity\":0.5,\"type\":\"histogram\",\"x\":[4,6]},{\"marker\":{\"color\":1},\"name\":\"e1\",\"nbinsx\":10,\"opacity\":0.5,\"type\":\"histogram\",\"x\":[6,6]},{\"marker\":{\"color\":2},\"name\":\"e2\",\"nbinsx\":10,\"opacity\":0.5,\"type\":\"histogram\",\"x\":[7,9,3,8,0,7,6]},{\"marker\":{\"color\":3},\"name\":\"e3\",\"nbinsx\":10,\"opacity\":0.5,\"type\":\"histogram\",\"x\":[5,7,2,5,8,7,2,9,5,8,2]},{\"marker\":{\"color\":4},\"name\":\"e4\",\"nbinsx\":10,\"opacity\":0.5,\"type\":\"histogram\",\"x\":[2,6,0]},{\"marker\":{\"color\":5},\"name\":\"e5\",\"nbinsx\":10,\"opacity\":0.5,\"type\":\"histogram\",\"x\":[8,3,0,3,7,0,3,9,8]},{\"marker\":{\"color\":6},\"name\":\"e6\",\"nbinsx\":10,\"opacity\":0.5,\"type\":\"histogram\",\"x\":[0,7,4,5,4]},{\"marker\":{\"color\":7},\"name\":\"e7\",\"nbinsx\":10,\"opacity\":0.5,\"type\":\"histogram\",\"x\":[9,9,9,9,9,2,1]},{\"marker\":{\"color\":8},\"name\":\"e8\",\"nbinsx\":10,\"opacity\":0.5,\"type\":\"histogram\",\"x\":[7,0,2,7,0,2,5,2]},{\"marker\":{\"color\":9},\"name\":\"e9\",\"nbinsx\":10,\"opacity\":0.5,\"type\":\"histogram\",\"x\":[7,7,7,7,7,7,7,7]}],                        {\"template\":{\"data\":{\"bar\":[{\"error_x\":{\"color\":\"#2a3f5f\"},\"error_y\":{\"color\":\"#2a3f5f\"},\"marker\":{\"line\":{\"color\":\"#E5ECF6\",\"width\":0.5},\"pattern\":{\"fillmode\":\"overlay\",\"size\":10,\"solidity\":0.2}},\"type\":\"bar\"}],\"barpolar\":[{\"marker\":{\"line\":{\"color\":\"#E5ECF6\",\"width\":0.5},\"pattern\":{\"fillmode\":\"overlay\",\"size\":10,\"solidity\":0.2}},\"type\":\"barpolar\"}],\"carpet\":[{\"aaxis\":{\"endlinecolor\":\"#2a3f5f\",\"gridcolor\":\"white\",\"linecolor\":\"white\",\"minorgridcolor\":\"white\",\"startlinecolor\":\"#2a3f5f\"},\"baxis\":{\"endlinecolor\":\"#2a3f5f\",\"gridcolor\":\"white\",\"linecolor\":\"white\",\"minorgridcolor\":\"white\",\"startlinecolor\":\"#2a3f5f\"},\"type\":\"carpet\"}],\"choropleth\":[{\"colorbar\":{\"outlinewidth\":0,\"ticks\":\"\"},\"type\":\"choropleth\"}],\"contour\":[{\"colorbar\":{\"outlinewidth\":0,\"ticks\":\"\"},\"colorscale\":[[0.0,\"#0d0887\"],[0.1111111111111111,\"#46039f\"],[0.2222222222222222,\"#7201a8\"],[0.3333333333333333,\"#9c179e\"],[0.4444444444444444,\"#bd3786\"],[0.5555555555555556,\"#d8576b\"],[0.6666666666666666,\"#ed7953\"],[0.7777777777777778,\"#fb9f3a\"],[0.8888888888888888,\"#fdca26\"],[1.0,\"#f0f921\"]],\"type\":\"contour\"}],\"contourcarpet\":[{\"colorbar\":{\"outlinewidth\":0,\"ticks\":\"\"},\"type\":\"contourcarpet\"}],\"heatmap\":[{\"colorbar\":{\"outlinewidth\":0,\"ticks\":\"\"},\"colorscale\":[[0.0,\"#0d0887\"],[0.1111111111111111,\"#46039f\"],[0.2222222222222222,\"#7201a8\"],[0.3333333333333333,\"#9c179e\"],[0.4444444444444444,\"#bd3786\"],[0.5555555555555556,\"#d8576b\"],[0.6666666666666666,\"#ed7953\"],[0.7777777777777778,\"#fb9f3a\"],[0.8888888888888888,\"#fdca26\"],[1.0,\"#f0f921\"]],\"type\":\"heatmap\"}],\"heatmapgl\":[{\"colorbar\":{\"outlinewidth\":0,\"ticks\":\"\"},\"colorscale\":[[0.0,\"#0d0887\"],[0.1111111111111111,\"#46039f\"],[0.2222222222222222,\"#7201a8\"],[0.3333333333333333,\"#9c179e\"],[0.4444444444444444,\"#bd3786\"],[0.5555555555555556,\"#d8576b\"],[0.6666666666666666,\"#ed7953\"],[0.7777777777777778,\"#fb9f3a\"],[0.8888888888888888,\"#fdca26\"],[1.0,\"#f0f921\"]],\"type\":\"heatmapgl\"}],\"histogram\":[{\"marker\":{\"pattern\":{\"fillmode\":\"overlay\",\"size\":10,\"solidity\":0.2}},\"type\":\"histogram\"}],\"histogram2d\":[{\"colorbar\":{\"outlinewidth\":0,\"ticks\":\"\"},\"colorscale\":[[0.0,\"#0d0887\"],[0.1111111111111111,\"#46039f\"],[0.2222222222222222,\"#7201a8\"],[0.3333333333333333,\"#9c179e\"],[0.4444444444444444,\"#bd3786\"],[0.5555555555555556,\"#d8576b\"],[0.6666666666666666,\"#ed7953\"],[0.7777777777777778,\"#fb9f3a\"],[0.8888888888888888,\"#fdca26\"],[1.0,\"#f0f921\"]],\"type\":\"histogram2d\"}],\"histogram2dcontour\":[{\"colorbar\":{\"outlinewidth\":0,\"ticks\":\"\"},\"colorscale\":[[0.0,\"#0d0887\"],[0.1111111111111111,\"#46039f\"],[0.2222222222222222,\"#7201a8\"],[0.3333333333333333,\"#9c179e\"],[0.4444444444444444,\"#bd3786\"],[0.5555555555555556,\"#d8576b\"],[0.6666666666666666,\"#ed7953\"],[0.7777777777777778,\"#fb9f3a\"],[0.8888888888888888,\"#fdca26\"],[1.0,\"#f0f921\"]],\"type\":\"histogram2dcontour\"}],\"mesh3d\":[{\"colorbar\":{\"outlinewidth\":0,\"ticks\":\"\"},\"type\":\"mesh3d\"}],\"parcoords\":[{\"line\":{\"colorbar\":{\"outlinewidth\":0,\"ticks\":\"\"}},\"type\":\"parcoords\"}],\"pie\":[{\"automargin\":true,\"type\":\"pie\"}],\"scatter\":[{\"marker\":{\"colorbar\":{\"outlinewidth\":0,\"ticks\":\"\"}},\"type\":\"scatter\"}],\"scatter3d\":[{\"line\":{\"colorbar\":{\"outlinewidth\":0,\"ticks\":\"\"}},\"marker\":{\"colorbar\":{\"outlinewidth\":0,\"ticks\":\"\"}},\"type\":\"scatter3d\"}],\"scattercarpet\":[{\"marker\":{\"colorbar\":{\"outlinewidth\":0,\"ticks\":\"\"}},\"type\":\"scattercarpet\"}],\"scattergeo\":[{\"marker\":{\"colorbar\":{\"outlinewidth\":0,\"ticks\":\"\"}},\"type\":\"scattergeo\"}],\"scattergl\":[{\"marker\":{\"colorbar\":{\"outlinewidth\":0,\"ticks\":\"\"}},\"type\":\"scattergl\"}],\"scattermapbox\":[{\"marker\":{\"colorbar\":{\"outlinewidth\":0,\"ticks\":\"\"}},\"type\":\"scattermapbox\"}],\"scatterpolar\":[{\"marker\":{\"colorbar\":{\"outlinewidth\":0,\"ticks\":\"\"}},\"type\":\"scatterpolar\"}],\"scatterpolargl\":[{\"marker\":{\"colorbar\":{\"outlinewidth\":0,\"ticks\":\"\"}},\"type\":\"scatterpolargl\"}],\"scatterternary\":[{\"marker\":{\"colorbar\":{\"outlinewidth\":0,\"ticks\":\"\"}},\"type\":\"scatterternary\"}],\"surface\":[{\"colorbar\":{\"outlinewidth\":0,\"ticks\":\"\"},\"colorscale\":[[0.0,\"#0d0887\"],[0.1111111111111111,\"#46039f\"],[0.2222222222222222,\"#7201a8\"],[0.3333333333333333,\"#9c179e\"],[0.4444444444444444,\"#bd3786\"],[0.5555555555555556,\"#d8576b\"],[0.6666666666666666,\"#ed7953\"],[0.7777777777777778,\"#fb9f3a\"],[0.8888888888888888,\"#fdca26\"],[1.0,\"#f0f921\"]],\"type\":\"surface\"}],\"table\":[{\"cells\":{\"fill\":{\"color\":\"#EBF0F8\"},\"line\":{\"color\":\"white\"}},\"header\":{\"fill\":{\"color\":\"#C8D4E3\"},\"line\":{\"color\":\"white\"}},\"type\":\"table\"}]},\"layout\":{\"annotationdefaults\":{\"arrowcolor\":\"#2a3f5f\",\"arrowhead\":0,\"arrowwidth\":1},\"autotypenumbers\":\"strict\",\"coloraxis\":{\"colorbar\":{\"outlinewidth\":0,\"ticks\":\"\"}},\"colorscale\":{\"diverging\":[[0,\"#8e0152\"],[0.1,\"#c51b7d\"],[0.2,\"#de77ae\"],[0.3,\"#f1b6da\"],[0.4,\"#fde0ef\"],[0.5,\"#f7f7f7\"],[0.6,\"#e6f5d0\"],[0.7,\"#b8e186\"],[0.8,\"#7fbc41\"],[0.9,\"#4d9221\"],[1,\"#276419\"]],\"sequential\":[[0.0,\"#0d0887\"],[0.1111111111111111,\"#46039f\"],[0.2222222222222222,\"#7201a8\"],[0.3333333333333333,\"#9c179e\"],[0.4444444444444444,\"#bd3786\"],[0.5555555555555556,\"#d8576b\"],[0.6666666666666666,\"#ed7953\"],[0.7777777777777778,\"#fb9f3a\"],[0.8888888888888888,\"#fdca26\"],[1.0,\"#f0f921\"]],\"sequentialminus\":[[0.0,\"#0d0887\"],[0.1111111111111111,\"#46039f\"],[0.2222222222222222,\"#7201a8\"],[0.3333333333333333,\"#9c179e\"],[0.4444444444444444,\"#bd3786\"],[0.5555555555555556,\"#d8576b\"],[0.6666666666666666,\"#ed7953\"],[0.7777777777777778,\"#fb9f3a\"],[0.8888888888888888,\"#fdca26\"],[1.0,\"#f0f921\"]]},\"colorway\":[\"#636efa\",\"#EF553B\",\"#00cc96\",\"#ab63fa\",\"#FFA15A\",\"#19d3f3\",\"#FF6692\",\"#B6E880\",\"#FF97FF\",\"#FECB52\"],\"font\":{\"color\":\"#2a3f5f\"},\"geo\":{\"bgcolor\":\"white\",\"lakecolor\":\"white\",\"landcolor\":\"#E5ECF6\",\"showlakes\":true,\"showland\":true,\"subunitcolor\":\"white\"},\"hoverlabel\":{\"align\":\"left\"},\"hovermode\":\"closest\",\"mapbox\":{\"style\":\"light\"},\"paper_bgcolor\":\"white\",\"plot_bgcolor\":\"#E5ECF6\",\"polar\":{\"angularaxis\":{\"gridcolor\":\"white\",\"linecolor\":\"white\",\"ticks\":\"\"},\"bgcolor\":\"#E5ECF6\",\"radialaxis\":{\"gridcolor\":\"white\",\"linecolor\":\"white\",\"ticks\":\"\"}},\"scene\":{\"xaxis\":{\"backgroundcolor\":\"#E5ECF6\",\"gridcolor\":\"white\",\"gridwidth\":2,\"linecolor\":\"white\",\"showbackground\":true,\"ticks\":\"\",\"zerolinecolor\":\"white\"},\"yaxis\":{\"backgroundcolor\":\"#E5ECF6\",\"gridcolor\":\"white\",\"gridwidth\":2,\"linecolor\":\"white\",\"showbackground\":true,\"ticks\":\"\",\"zerolinecolor\":\"white\"},\"zaxis\":{\"backgroundcolor\":\"#E5ECF6\",\"gridcolor\":\"white\",\"gridwidth\":2,\"linecolor\":\"white\",\"showbackground\":true,\"ticks\":\"\",\"zerolinecolor\":\"white\"}},\"shapedefaults\":{\"line\":{\"color\":\"#2a3f5f\"}},\"ternary\":{\"aaxis\":{\"gridcolor\":\"white\",\"linecolor\":\"white\",\"ticks\":\"\"},\"baxis\":{\"gridcolor\":\"white\",\"linecolor\":\"white\",\"ticks\":\"\"},\"bgcolor\":\"#E5ECF6\",\"caxis\":{\"gridcolor\":\"white\",\"linecolor\":\"white\",\"ticks\":\"\"}},\"title\":{\"x\":0.05},\"xaxis\":{\"automargin\":true,\"gridcolor\":\"white\",\"linecolor\":\"white\",\"ticks\":\"\",\"title\":{\"standoff\":15},\"zerolinecolor\":\"white\",\"zerolinewidth\":2},\"yaxis\":{\"automargin\":true,\"gridcolor\":\"white\",\"linecolor\":\"white\",\"ticks\":\"\",\"title\":{\"standoff\":15},\"zerolinecolor\":\"white\",\"zerolinewidth\":2}}}},                        {\"responsive\": true}                    ).then(function(){\n",
       "                            \n",
       "var gd = document.getElementById('00c3a4fb-01b4-4980-9604-1fd944c21be2');\n",
       "var x = new MutationObserver(function (mutations, observer) {{\n",
       "        var display = window.getComputedStyle(gd).display;\n",
       "        if (!display || display === 'none') {{\n",
       "            console.log([gd, 'removed!']);\n",
       "            Plotly.purge(gd);\n",
       "            observer.disconnect();\n",
       "        }}\n",
       "}});\n",
       "\n",
       "// Listen for the removal of the full notebook cells\n",
       "var notebookContainer = gd.closest('#notebook-container');\n",
       "if (notebookContainer) {{\n",
       "    x.observe(notebookContainer, {childList: true});\n",
       "}}\n",
       "\n",
       "// Listen for the clearing of the current output cell\n",
       "var outputEl = gd.closest('.output');\n",
       "if (outputEl) {{\n",
       "    x.observe(outputEl, {childList: true});\n",
       "}}\n",
       "\n",
       "                        })                };                });            </script>        </div>"
      ]
     },
     "metadata": {},
     "output_type": "display_data"
    }
   ],
   "source": [
    "import plotly.graph_objects as go\n",
    "yactual = np.asarray(test_y)\n",
    "print()\n",
    "fig=go.Figure()\n",
    "for i in range(10):\n",
    "    items = y_pred[yactual==i]\n",
    "    correct = items[items==i]\n",
    "    err = items[items!=i]\n",
    "#     fig.add_trace(go.Histogram(x=correct,\n",
    "#                            nbinsx=10,name=f\"c{i}\",marker_color='blue',opacity=0.5,\n",
    "#                               ))\n",
    "    fig.add_trace(go.Histogram(x=err,\n",
    "                           nbinsx=10,name=f\"e{i}\",marker_color=i,opacity=0.5))\n",
    "\n",
    "fig.show()"
   ]
  },
  {
   "cell_type": "code",
   "execution_count": 99,
   "metadata": {},
   "outputs": [
    {
     "name": "stdout",
     "output_type": "stream",
     "text": [
      "\n"
     ]
    },
    {
     "data": {
      "application/vnd.plotly.v1+json": {
       "config": {
        "plotlyServerURL": "https://plot.ly"
       },
       "data": [
        {
         "marker": {
          "color": "blue"
         },
         "name": "c0",
         "nbinsx": 10,
         "opacity": 0.5,
         "type": "histogram",
         "x": [
          0.9928914720933644,
          0.9578637589138485,
          0.9975506524375207,
          0.9975801221767354,
          0.9991991378050226,
          0.999695851051601,
          0.9993950423500009,
          0.9995632958613669,
          0.9998137195572788,
          0.9951845193495956,
          0.95293241743416,
          0.9994908729818487,
          0.9801271554317132,
          0.9999866560843346,
          0.95293241743416,
          0.9884765246154777,
          0.7319503468590356,
          0.9600991724007141,
          0.9801271554317132,
          0.9998386948073739,
          0.9999328468461315,
          0.9984084331000431,
          0.9999817361387103,
          0.8237354790371791,
          0.9953765980167452,
          0.9934613076922287,
          0.995383587898572,
          0.9985721992188868,
          0.999562190350223,
          0.9989352321177042,
          0.996929008502368,
          0.9999600171362487,
          0.9979418580888166,
          0.9470964231123044,
          0.9962827857955836,
          0.9999494658358294,
          0.9979711788877071,
          0.9989257989790701,
          0.9999534161653996,
          0.999857901499638,
          0.9999502907206862,
          0.9999730132005287,
          0.9997677330444876,
          0.9983283801375801,
          0.9999646497397066,
          0.999804832402065,
          0.9999109229982157,
          0.999802602545346,
          0.9998724766676047,
          0.9999257161092562,
          0.9999053087751184,
          0.9995227728204151,
          0.9986885870108675,
          0.9997487003812302,
          0.99968490234865,
          0.9999058135371931,
          0.9955105341682586,
          0.9876473398888068,
          0.9979949885554279,
          0.9992678636613392,
          0.9911208235538862,
          0.9989749090589894,
          0.9998740102040032,
          0.9901260909910887,
          0.9965133445575797,
          0.9857406435624042,
          0.9920602644219257,
          0.9998375225845194,
          0.999936038824218,
          0.999336095854886,
          0.9970428572538392,
          0.9980133939727157,
          0.9880681124122362,
          0.9989011490619433,
          0.9833920932007932,
          0.9973898201916273,
          0.9994920452059123,
          0.999463224954635,
          0.9995807927093004,
          0.99942854886393,
          0.9997334369919286,
          0.9996460249007616,
          0.9997886745699184,
          0.9994908729818487
         ]
        },
        {
         "marker": {
          "color": "red"
         },
         "name": "e0",
         "nbinsx": 10,
         "opacity": 0.5,
         "type": "histogram",
         "x": [
          0.11089238676881331,
          0.06133318054840155
         ]
        },
        {
         "marker": {
          "color": "blue"
         },
         "name": "c1",
         "nbinsx": 10,
         "opacity": 0.5,
         "type": "histogram",
         "x": [
          0.9941566205618341,
          0.9883293695035338,
          0.996491115602613,
          0.9908080424375568,
          0.9961779305706921,
          0.5603441967762132,
          0.9558444842513094,
          0.9904482504294455,
          0.990208573269428,
          0.986799970271832,
          0.971203281440217,
          0.9985128136619513,
          0.9922955933494053,
          0.9988270349417285,
          0.9793138170669821,
          0.9972198127280547,
          0.9961779305706921,
          0.998516340211506,
          0.989125521067265,
          0.9912893864075512,
          0.9945645934670706,
          0.9969563124666784,
          0.9943729769414958,
          0.9980830298600603,
          0.9955038141274855,
          0.9914701159118205,
          0.9958693843167533,
          0.9955629914039331,
          0.9973517886165174,
          0.9813783263677689,
          0.9971615552649542,
          0.9935337308991169,
          0.9890352364539603,
          0.9989294213237013,
          0.9918510360220345,
          0.9986370531901966,
          0.989764187580804,
          0.8778919306407915,
          0.9269999491854796,
          0.9943439155414446,
          0.9977403535607315,
          0.9971125718947526,
          0.9912893864075512,
          0.9906413529580341,
          0.9973690850041401,
          0.996491115602613,
          0.9347636958684561,
          0.9991400737630067,
          0.9964406760608722,
          0.9947301554339323,
          0.9959272896500887,
          0.9920623542334094,
          0.9872324053398502,
          0.9956172866456378,
          0.9674428578561352,
          0.9968176908938624,
          0.9884491923203761,
          0.9945767175367326,
          0.9874807325926471,
          0.9950768065795487,
          0.9763957586107309,
          0.9951767466413745,
          0.9965202140730023,
          0.9621664558179788,
          0.9957219006684598,
          0.9982570735284666,
          0.9705324980603437,
          0.9875077368863402,
          0.9961527705323222,
          0.9979035660122386,
          0.9969066237003417,
          0.9842743495886432,
          0.9984055547463739,
          0.9943712076181254,
          0.9810764701849981,
          0.9839870778385078,
          0.9968176908938624,
          0.9941129700120858,
          0.8935885316351964,
          0.9980447101862294,
          0.9833198291259289,
          0.9800148927894343,
          0.9942886720808095,
          0.9967418890271994,
          0.989182663120284,
          0.9974773634007817,
          0.9935175789800853,
          0.9922062364744862,
          0.9960649641279009,
          0.9968133004605826,
          0.9749807772765856,
          0.9935337308991169,
          0.9983381118301254,
          0.9915499288542453,
          0.95322745023322,
          0.9978778974121457,
          0.9903675670092815,
          0.989764187580804,
          0.9979968825395482,
          0.9833611320017666,
          0.9979035660122386,
          0.9928919519551757,
          0.9955899912335445,
          0.9903528940730131,
          0.9943531090092083,
          0.997687617272403
         ]
        },
        {
         "marker": {
          "color": "red"
         },
         "name": "e1",
         "nbinsx": 10,
         "opacity": 0.5,
         "type": "histogram",
         "x": [
          0.08985125226477869,
          0.06257945358227929
         ]
        },
        {
         "marker": {
          "color": "blue"
         },
         "name": "c2",
         "nbinsx": 10,
         "opacity": 0.5,
         "type": "histogram",
         "x": [
          0.9997377246993547,
          0.7734188615874406,
          0.9981679839945263,
          0.9543713324526792,
          0.8476362342916397,
          0.6567692318960539,
          0.981136139532993,
          0.9959132347214855,
          0.9653630298201372,
          0.9982493515684544,
          0.9991589525515663,
          0.9975320011680342,
          0.9928274658681036,
          0.9990571247221885,
          0.9906368741404296,
          0.9998161724759032,
          0.8369375500050593,
          0.9818316835397503,
          0.7901799492101252,
          0.9818354566367243,
          0.5117942182096558,
          0.9999365577308753,
          0.991589807232841,
          0.9981333121473314,
          0.9077929487090132,
          0.885973740095955,
          0.9790746421775495,
          0.999371234192322,
          0.9956240645162532,
          0.9754137235017455,
          0.9697417763849481,
          0.9443810033465173,
          0.9263580144094046,
          0.9989927712527067,
          0.9985258080357328,
          0.9980549963884714,
          0.9994353665114175,
          0.8143311078405979,
          0.620561042153422,
          0.9994381190730283,
          0.9967717878333087,
          0.967607141068833,
          0.9986397609090614,
          0.9860909248850214,
          0.9185191798366273,
          0.9998161724759032,
          0.9996806958245605,
          0.9997918621610902,
          0.9275377473070139,
          0.999491987530508,
          0.9700904576555315,
          0.9994485284893955,
          0.9981277724494284,
          0.9804787621378819,
          0.9994564239021689,
          0.9830101836399429,
          0.9964798945931604,
          0.9957037965293228,
          0.9963652347353882,
          0.9693311574945931,
          0.9805087091588459,
          0.999491987530508,
          0.9970926607214802,
          0.99410778356881,
          0.7988706423032133,
          0.997028135365412,
          0.992143664274133,
          0.9859947231819326,
          0.9996924411236423,
          0.9912682304669297,
          0.9978936465583625,
          0.9700506194355007,
          0.9839366357196264,
          0.9967472008359844,
          0.619816570617926,
          0.9697417763849481,
          0.9597758269050083,
          0.9985591767280436,
          0.9964465010228032,
          0.9982393120863784
         ]
        },
        {
         "marker": {
          "color": "red"
         },
         "name": "e2",
         "nbinsx": 10,
         "opacity": 0.5,
         "type": "histogram",
         "x": [
          0.2995189615266646,
          0.3842874208703897,
          0.17074918231680755,
          0.15429739572977658,
          0.10809960708349542,
          0.14643995052109826,
          0.27959193862604986,
          0.17222681039321802
         ]
        },
        {
         "marker": {
          "color": "blue"
         },
         "name": "c3",
         "nbinsx": 10,
         "opacity": 0.5,
         "type": "histogram",
         "x": [
          0.9837099492105623,
          0.9964891404564682,
          0.8746470444501758,
          0.9947373651174607,
          0.9917674504463163,
          0.7364605267646691,
          0.786231690647478,
          0.9686776570818276,
          0.7554583402257261,
          0.9995680456373064,
          0.9967719204431511,
          0.8552935704127335,
          0.9902291985479177,
          0.9997652995252216,
          0.9976648136712699,
          0.9995925837613729,
          0.9979175470928822,
          0.975994270999349,
          0.9998810784335785,
          0.9991659615696352,
          0.9375389686913675,
          0.9965055060531995,
          0.9998202903661582,
          0.9742469701829107,
          0.9999353629153152,
          0.9945428320251312,
          0.9982998262752897,
          0.979659524695845,
          0.99899321288913,
          0.9947140906484465,
          0.9994742576722141,
          0.9705442770489091,
          0.9108615608133074,
          0.9996233762285586,
          0.9609124781122319,
          0.9312223262628525,
          0.9999883862631339,
          0.9930880721222087,
          0.9922437096448451,
          0.5067438747052327,
          0.9999601312164116,
          0.9987310500656453,
          0.9999293829361737,
          0.9999298650812951,
          0.719896319485818,
          0.9992788930733315,
          0.9406169677248495,
          0.9980100589135262,
          0.9998929696548605,
          0.9999944939319518,
          0.9721611100278947,
          0.9922960534118549,
          0.9859440798532089,
          0.9636928899095074,
          0.8742787948972355,
          0.9988790080789864,
          0.9932553110509709,
          0.9975177327196348,
          0.9993284933821575,
          0.9529296124016435,
          0.9987111220621513,
          0.8980132486126745,
          0.9980929899487753,
          0.9993439544559174,
          0.992146281930986,
          0.9789893444718925,
          0.999986197177402,
          0.9999604743724652,
          0.9999633507031551,
          0.762439051550353,
          0.9974225692883592,
          0.9945192340768302,
          0.6376129185228203,
          0.9909927431921272,
          0.9998093782496307,
          0.9995794287362063,
          0.9362737131999603,
          0.9979175470928822,
          0.9998202903661582,
          0.9974216370134691,
          0.89736828702048,
          0.9903232044098597,
          0.9900254150093014,
          0.8282340717243296,
          0.9985344215665896,
          0.9960133549884556,
          0.9998567529530664
         ]
        },
        {
         "marker": {
          "color": "red"
         },
         "name": "e3",
         "nbinsx": 10,
         "opacity": 0.5,
         "type": "histogram",
         "x": [
          0.06263088178573488,
          0.01530924440017969,
          0.395144546496652,
          0.21104037859779834,
          0.4890092962011791,
          0.04213785649672893,
          0.01857352073783984,
          0.4692301474898566,
          0.47118766636308823,
          0.0028923168137630103,
          0.395144546496652,
          0.38277859485909993,
          0.40544479668141103
         ]
        },
        {
         "marker": {
          "color": "blue"
         },
         "name": "c4",
         "nbinsx": 10,
         "opacity": 0.5,
         "type": "histogram",
         "x": [
          0.9981149217948625,
          0.9572317152302459,
          0.6056350024134244,
          0.9999476927164851,
          0.9983364289315358,
          0.9980602505756527,
          0.9999561333141888,
          0.9999561333141888,
          0.9962357506895021,
          0.9787949696352836,
          0.985893009619248,
          0.9999163677454984,
          0.872147590141528,
          0.9494977995553213,
          0.5919861176036793,
          0.9996747590766843,
          0.9768171569996867,
          0.9740409916429086,
          0.9996828672413322,
          0.9868673020990778,
          0.7790570645435129,
          0.9787728273584343,
          0.9983906732375462,
          0.9987471048302073,
          0.8803609740550256,
          0.993716650141886,
          0.9994494018735568,
          0.9970652901329508,
          0.9959781778375311,
          0.9948456998798098,
          0.9983183094654674,
          0.8423798727612332,
          0.9998113959976925,
          0.9895081650175832,
          0.9572317152302459,
          0.9864601096061086,
          0.9275177107589353,
          0.9930523573993177,
          0.9964895944318498,
          0.9953453145882283,
          0.9795134502393023,
          0.9999634118661951,
          0.9986543710890936,
          0.9996029776062073,
          0.5278807654943584,
          0.9776067565587453,
          0.9813236319942276,
          0.9967045850252306,
          0.9998634251510723,
          0.9982669252703356,
          0.8538037216330611,
          0.9874906039726552,
          0.9909232418142683,
          0.8494208407887419,
          0.9998645641599001,
          0.9775947552373851,
          0.9963815448675496,
          0.9970652901329508,
          0.9042657138612491,
          0.9981553904423519,
          0.8452140710986283,
          0.9924465123044053,
          0.993712175934545,
          0.970835773390863,
          0.9999693592255756,
          0.9941736842867772,
          0.9854369547186589,
          0.9964895944318498,
          0.9967558288859127,
          0.9988694884407727,
          0.9999307109604125,
          0.9984829455244064,
          0.9999338529471946,
          0.998571040095822,
          0.9395761843926632,
          0.9999004233465295,
          0.9629523147292178,
          0.9942399408320846,
          0.9923608557821479,
          0.9820701059141106,
          0.9965742056279889,
          0.9994601332235303,
          0.970883253780734,
          0.5180301913998191,
          0.9988768163232774,
          0.9640321687272391,
          0.997175790509359,
          0.991952390464098,
          0.9790172117143822,
          0.997140740601946,
          0.9959826360515858,
          0.9629523147292178,
          0.7145496685435124,
          0.999834979201472,
          0.9999829467507051,
          0.6424771362455215,
          0.9911036090203298,
          0.9978859342484209,
          0.9965742056279889,
          0.9885045458055239,
          0.99285418566075,
          0.970883253780734,
          0.9953985994958966,
          0.9993936247674435,
          0.9939498937580402,
          0.9996029776062073
         ]
        },
        {
         "marker": {
          "color": "red"
         },
         "name": "e4",
         "nbinsx": 10,
         "opacity": 0.5,
         "type": "histogram",
         "x": [
          0.1496362800795689,
          0.10650721874381319,
          0.20103907316318567
         ]
        },
        {
         "marker": {
          "color": "blue"
         },
         "name": "c5",
         "nbinsx": 10,
         "opacity": 0.5,
         "type": "histogram",
         "x": [
          0.9843917054432081,
          0.5277776663124676,
          0.993816436099381,
          0.9353977292189227,
          0.689132682874347,
          0.9974477971755298,
          0.9994211917541835,
          0.9709107634010198,
          0.8982204724276321,
          0.9868252164663756,
          0.9985489307716279,
          0.9862805674589658,
          0.9666375909762591,
          0.9977209078723401,
          0.9992110701679953,
          0.9947221510846647,
          0.9910800361491167,
          0.9610417127479832,
          0.9958494006305841,
          0.9964279649916927,
          0.9166922104461485,
          0.9275229109460035,
          0.9889043628477243,
          0.6383429671902798,
          0.9999761939538281,
          0.9882794577382427,
          0.996707846613539,
          0.9780892748027604,
          0.9051608054729344,
          0.9999208586241004,
          0.9981555476727166,
          0.9633276279161413,
          0.9803427642973673,
          0.9996734644410177,
          0.9999208586241004,
          0.8460183168014134,
          0.9998436446965001,
          0.9057135410681346,
          0.9986589640247656,
          0.9999541212130763,
          0.9997231521823696,
          0.9275229109460035,
          0.9803178171056002,
          0.9706793137271373,
          0.9980341520894757,
          0.9998099651587022,
          0.9963469458534168,
          0.9802032156414694,
          0.9998264493360504,
          0.8071055350106677,
          0.9896813606356797,
          0.8617364784406437,
          0.9981194559800404,
          0.9985241378540127,
          0.9787292155587893,
          0.9389455575405449,
          0.9656579423357525,
          0.9985430166188569,
          0.9898978353017212,
          0.8317445525718026,
          0.848401140002091,
          0.993891093350951,
          0.8692931202244023,
          0.9742403120149172,
          0.9643012065360651,
          0.9446793393102244,
          0.7717459275694187,
          0.9547276666669361,
          0.9994383356281616,
          0.9842446050917023,
          0.9839334178777386,
          0.9593272173798867,
          0.5010574401411253,
          0.9918599816725459,
          0.996416742144434,
          0.9985868911787666,
          0.7940389464282573,
          0.9827385639986417,
          0.9990512164327262,
          0.9926571139088857,
          0.9864660515671653,
          0.809763568652063,
          0.9507303274146205,
          0.9936280725756013
         ]
        },
        {
         "marker": {
          "color": "red"
         },
         "name": "e5",
         "nbinsx": 10,
         "opacity": 0.5,
         "type": "histogram",
         "x": [
          0.15884192335754133,
          0.31818327221638915,
          0.14315495781400062,
          0.3777846567038822,
          0.3975512906786919,
          0.07006741199800523,
          0.09539510448479409,
          0.46286143712776573,
          0.11404618691006509,
          0.2583372933136886,
          0.2945632055791649,
          0.47855291532945593
         ]
        },
        {
         "marker": {
          "color": "blue"
         },
         "name": "c6",
         "nbinsx": 10,
         "opacity": 0.5,
         "type": "histogram",
         "x": [
          0.9856780892129536,
          0.9984954856070938,
          0.9433098119827381,
          0.940479551409658,
          0.99998808832815,
          0.9402852611856399,
          0.6717585011893391,
          0.9741895835345519,
          0.9900841840516047,
          0.8932865049265737,
          0.9850043417300193,
          0.9956816847707879,
          0.996321485518139,
          0.9993686664211324,
          0.999952337042331,
          0.9999163305055595,
          0.7149415283866225,
          0.9984522231217476,
          0.9975356768569766,
          0.719498695645214,
          0.9748200733583556,
          0.9762204823388413,
          0.9984935092422098,
          0.9999899334410711,
          0.9985999163290805,
          0.965370628722491,
          0.999983648768083,
          0.9514017608874641,
          0.9986731578362706,
          0.9902149398005621,
          0.9987838956454247,
          0.9993936242062904,
          0.9966400742371381,
          0.9974419143103098,
          0.9985185674390571,
          0.9994753127834091,
          0.9991448581597474,
          0.999962540595378,
          0.9597927862495014,
          0.99805317298416,
          0.8919358399068937,
          0.9958103626443495,
          0.9480734996819534,
          0.8804902817467787,
          0.9757260159575215,
          0.9999086578582542,
          0.9975323709489827,
          0.9906800166257109,
          0.9999411895933142,
          0.8865791120589854,
          0.9480734996819534,
          0.9626584509118272,
          0.9873443438060313,
          0.8417549523068345,
          0.8230191453318334,
          0.9987850743157413,
          0.9999895175807835,
          0.961640310654419,
          0.8861912148118379,
          0.9991223056624382,
          0.9741895835345519,
          0.8653207569547637,
          0.9893608917316996,
          0.9999755383389266,
          0.9616344323327477,
          0.9959324719904719,
          0.9966400742371381,
          0.994477238645247,
          0.9944263271126436,
          0.9752297008468825,
          0.9985257956867869,
          0.991397985403294,
          0.9999577216838818,
          0.9973167694485134,
          0.9993802901734576,
          0.9999869694121567,
          0.9906800166257109,
          0.9956763950091991,
          0.9987447384175016,
          0.9999577649866164,
          0.9999813329873001,
          0.9969126177404732,
          0.9999479098237535,
          0.9698601464762903,
          0.9248473106271617,
          0.6893489466897732,
          0.8442386196255053,
          0.9999688564110378,
          0.9895895642045724,
          0.9295909681045569,
          0.973970812974777,
          0.997282113685725,
          0.9956898360815598
         ]
        },
        {
         "marker": {
          "color": "red"
         },
         "name": "e6",
         "nbinsx": 10,
         "opacity": 0.5,
         "type": "histogram",
         "x": [
          0.20106911440191963,
          0.14429927554626004,
          0.18681795112367247,
          0.3767445729945618,
          0.21014022603106855
         ]
        },
        {
         "marker": {
          "color": "blue"
         },
         "name": "c7",
         "nbinsx": 10,
         "opacity": 0.5,
         "type": "histogram",
         "x": [
          0.88037707335051,
          0.9912662565327615,
          0.9871063405011742,
          0.9951220844430981,
          0.7359675391658864,
          0.9649795784101408,
          0.9976617582324063,
          0.9927570763623653,
          0.9843728109752307,
          0.996717882949533,
          0.9991353265204448,
          0.976572947665812,
          0.9945928080771602,
          0.9916736665935937,
          0.9964805604102028,
          0.9910823766385526,
          0.9997621339724188,
          0.9969924855528824,
          0.9986075465246037,
          0.9976268772181929,
          0.9998234215471267,
          0.9992755005658351,
          0.9994310022719455,
          0.9990997066024312,
          0.9329339838100011,
          0.9984333239795592,
          0.9908424008604821,
          0.9890433726758062,
          0.8053979028895251,
          0.9885846930543084,
          0.8728717638884937,
          0.9975042665138053,
          0.9945928080771602,
          0.996706617740591,
          0.9998589316190634,
          0.9855802776302038,
          0.8303626313797048,
          0.9926417446605387,
          0.8038788430597122,
          0.9751240724607659,
          0.9999966737925017,
          0.9929524933494822,
          0.9996652030965301,
          0.9999402995279518,
          0.9948564728138346,
          0.9850193107676282,
          0.7179197738519013,
          0.9983650919666573,
          0.9996745824976487,
          0.9958984732749151,
          0.9992374444997573,
          0.9962000721048859,
          0.9991449310419172,
          0.9923847064168689,
          0.9722849331372421,
          0.9987134209499826,
          0.999221195344959,
          0.991209703659745,
          0.9254064600377951,
          0.9976909798889307,
          0.9982037051395366,
          0.9946394178888263,
          0.9980255441341733,
          0.7848574860198785,
          0.9986804284746602,
          0.8015999143384082,
          0.8442305430508705,
          0.9707367740256373,
          0.9524195887719785,
          0.9899702278266185,
          0.9951317631163331,
          0.9726955068687045,
          0.9956528237886826,
          0.6597983794038718,
          0.9968563445333543,
          0.9991850747292953,
          0.9973712210258594,
          0.9957270742977252,
          0.9873668655881706,
          0.9992772013617862,
          0.9719265767510101,
          0.9962000721048859,
          0.9470620241013238,
          0.9968563445333543,
          0.9941367490272456,
          0.9967489791107967,
          0.9994433533687728,
          0.986438130663434,
          0.9998487486752325
         ]
        },
        {
         "marker": {
          "color": "red"
         },
         "name": "e7",
         "nbinsx": 10,
         "opacity": 0.5,
         "type": "histogram",
         "x": [
          0.4878381248976037,
          0.2733926289441579,
          0.1227791146112063,
          0.22848367577421486,
          0.04954764280525302,
          0.1720012118146427,
          0.2733926289440234,
          0.4551593648088065,
          0.003950471501040203,
          0.16730326805489568
         ]
        },
        {
         "marker": {
          "color": "blue"
         },
         "name": "c8",
         "nbinsx": 10,
         "opacity": 0.5,
         "type": "histogram",
         "x": [
          0.9630727132880851,
          0.9889358965713001,
          0.9999457837691413,
          0.9972487928633327,
          0.9649389670312217,
          0.9931456413566809,
          0.9948561243879035,
          0.9922746411553095,
          0.9995241067112347,
          0.996653542414804,
          0.9998297898400248,
          0.9001213064549646,
          0.9999265616965992,
          0.9999971621459627,
          0.9983336894568442,
          0.955677766897274,
          0.9940504241280228,
          0.988295042762961,
          0.9987162110590251,
          0.9346042749110752,
          0.996014286520553,
          0.9754949902464556,
          0.8559963150693208,
          0.8643084986530003,
          0.9999876103638651,
          0.9369376091096534,
          0.9990770037471959,
          0.9999987381599491,
          0.9970090212646348,
          0.998808166955982,
          0.9915109560134021,
          0.7686331837039233,
          0.902344232233953,
          0.9500688254759109,
          0.9182761357940783,
          0.9853241059921191,
          0.9953981330026879,
          0.9979887847244622,
          0.9345278358335982,
          0.9947214366689234,
          0.9979954280169225,
          0.9479892211345555,
          0.9812473541606703,
          0.9171390982372308,
          0.9992179202835338,
          0.7091847639869936,
          0.9962262951852089,
          0.9999966644531717,
          0.6192130466157574,
          0.9722345683834638,
          0.9949109487322401,
          0.9781016280829863,
          0.7814576920857262,
          0.9988082819662963,
          0.9820604698555158,
          0.9950803704164429,
          0.9908343656594614,
          0.9936973735237236,
          0.9636977035234763,
          0.9947768736482538,
          0.9999511351050114,
          0.9739468388269023,
          0.9984816602057023,
          0.6906757965835851,
          0.9999939785492026,
          0.9429734752219857,
          0.9999964905474028,
          0.9171390982372308,
          0.9155585958757649,
          0.987529267597073,
          0.8360954533781717,
          0.9999847802385997,
          0.9320022000699613,
          0.9999466028886406,
          0.9929337673964667,
          0.9974873646904302,
          0.9204085089807703,
          0.9746727179664695,
          0.9341965313311303,
          0.9947768736482538,
          0.9950420320995667,
          0.6299292277804596,
          0.9972312038076407,
          0.9994461651107833,
          0.9999474835908614,
          0.7088971570618099,
          0.9961554242962707,
          0.9019078326370088,
          0.9999914250052736,
          0.9722389855316785,
          0.9883782481570187,
          0.9981252305134959,
          0.9925442409094599,
          0.703314318717712
         ]
        },
        {
         "marker": {
          "color": "red"
         },
         "name": "e8",
         "nbinsx": 10,
         "opacity": 0.5,
         "type": "histogram",
         "x": [
          0.4476789443317822,
          0.0753429983780265,
          0.46117067202532347,
          0.20923216054257554,
          0.3247799540585326,
          0.4457497298746257,
          0.07787269580904567,
          0.20923216054257554,
          0.23340321331740208,
          0.013760479274566547,
          0.1529554836411707
         ]
        },
        {
         "marker": {
          "color": "blue"
         },
         "name": "c9",
         "nbinsx": 10,
         "opacity": 0.5,
         "type": "histogram",
         "x": [
          0.9970090725193163,
          0.9590979670646824,
          0.998202922397504,
          0.9963348163784749,
          0.9929098934936177,
          0.9984575547459206,
          0.9854887422420441,
          0.9918356455982557,
          0.9907434971293649,
          0.9999993117706296,
          0.9900428037996716,
          0.9946856988809929,
          0.9817743642044663,
          0.9986035874679932,
          0.9968925077134421,
          0.9956808716127339,
          0.9971152199869406,
          0.9781515848696375,
          0.954642881852143,
          0.9988322812952172,
          0.9883630142132453,
          0.9965079752099437,
          0.9970942808560106,
          0.969489903480274,
          0.635748257537784,
          0.9978459835399254,
          0.9930557251233495,
          0.9956851856217817,
          0.9672556265787161,
          0.9972226062763236,
          0.9968209351933714,
          0.9985419957290803,
          0.9939021195322009,
          0.9966965476509106,
          0.8975351114563634,
          0.9907828681494728,
          0.9912323739455887,
          0.9986807397853259,
          0.9963175838245832,
          0.9971444706469043,
          0.9999996058416748,
          0.9977124066651197,
          0.9977835270691632,
          0.9986313916344793,
          0.9909599935422055,
          0.9994033295309016,
          0.8019395640978813,
          0.9825327230795455,
          0.9267474469110893,
          0.9968726359947555,
          0.7180945761783644,
          0.8278232468552837,
          0.9990567086298692,
          0.9974955391264374,
          0.9941242206782495,
          0.9986367433290427,
          0.9987653232817751,
          0.9941351333498166,
          0.9948118057201568,
          0.9973041633442568,
          0.9947713306528828,
          0.9982717349992153,
          0.9950811689878525,
          0.9991299201853915,
          0.8546150786372434,
          0.9645067392835109,
          0.9980487281132379,
          0.9966888771091725,
          0.944997875525463,
          0.9999994780681444,
          0.9488798136231292,
          0.9973853262155128,
          0.9535210965617701,
          0.9368656211758919,
          0.9808213559363981,
          0.9792759884745172,
          0.9972037556650152,
          0.9473884521511047,
          0.9966306412242657,
          0.9999996744980453,
          0.9984051529443149,
          0.9046817641359661,
          0.9956321094715741,
          0.9530506819625424,
          0.9990905468917346,
          0.9637035192460197,
          0.8922586653790573,
          0.8644163052788165,
          0.9973785439528622,
          0.9671491779014783,
          0.9809028597554248,
          0.9727400454926216,
          0.9858473294164417,
          0.6234437843664508,
          0.9759981606269136,
          0.9999991148215217,
          0.8534206116226354,
          0.8705187394858198,
          0.8498558497395827,
          0.8599134723836268,
          0.9665032748171458,
          0.631235328907352,
          0.8731801603783664
         ]
        },
        {
         "marker": {
          "color": "red"
         },
         "name": "e9",
         "nbinsx": 10,
         "opacity": 0.5,
         "type": "histogram",
         "x": [
          0.3306060916341421,
          0.05290511143995421,
          0.05040482198246162,
          0.2928435861064726,
          0.14006667488479058,
          0.2928435861064726,
          0.05149194785234701,
          0.39781593294965717
         ]
        }
       ],
       "layout": {
        "template": {
         "data": {
          "bar": [
           {
            "error_x": {
             "color": "#2a3f5f"
            },
            "error_y": {
             "color": "#2a3f5f"
            },
            "marker": {
             "line": {
              "color": "#E5ECF6",
              "width": 0.5
             },
             "pattern": {
              "fillmode": "overlay",
              "size": 10,
              "solidity": 0.2
             }
            },
            "type": "bar"
           }
          ],
          "barpolar": [
           {
            "marker": {
             "line": {
              "color": "#E5ECF6",
              "width": 0.5
             },
             "pattern": {
              "fillmode": "overlay",
              "size": 10,
              "solidity": 0.2
             }
            },
            "type": "barpolar"
           }
          ],
          "carpet": [
           {
            "aaxis": {
             "endlinecolor": "#2a3f5f",
             "gridcolor": "white",
             "linecolor": "white",
             "minorgridcolor": "white",
             "startlinecolor": "#2a3f5f"
            },
            "baxis": {
             "endlinecolor": "#2a3f5f",
             "gridcolor": "white",
             "linecolor": "white",
             "minorgridcolor": "white",
             "startlinecolor": "#2a3f5f"
            },
            "type": "carpet"
           }
          ],
          "choropleth": [
           {
            "colorbar": {
             "outlinewidth": 0,
             "ticks": ""
            },
            "type": "choropleth"
           }
          ],
          "contour": [
           {
            "colorbar": {
             "outlinewidth": 0,
             "ticks": ""
            },
            "colorscale": [
             [
              0,
              "#0d0887"
             ],
             [
              0.1111111111111111,
              "#46039f"
             ],
             [
              0.2222222222222222,
              "#7201a8"
             ],
             [
              0.3333333333333333,
              "#9c179e"
             ],
             [
              0.4444444444444444,
              "#bd3786"
             ],
             [
              0.5555555555555556,
              "#d8576b"
             ],
             [
              0.6666666666666666,
              "#ed7953"
             ],
             [
              0.7777777777777778,
              "#fb9f3a"
             ],
             [
              0.8888888888888888,
              "#fdca26"
             ],
             [
              1,
              "#f0f921"
             ]
            ],
            "type": "contour"
           }
          ],
          "contourcarpet": [
           {
            "colorbar": {
             "outlinewidth": 0,
             "ticks": ""
            },
            "type": "contourcarpet"
           }
          ],
          "heatmap": [
           {
            "colorbar": {
             "outlinewidth": 0,
             "ticks": ""
            },
            "colorscale": [
             [
              0,
              "#0d0887"
             ],
             [
              0.1111111111111111,
              "#46039f"
             ],
             [
              0.2222222222222222,
              "#7201a8"
             ],
             [
              0.3333333333333333,
              "#9c179e"
             ],
             [
              0.4444444444444444,
              "#bd3786"
             ],
             [
              0.5555555555555556,
              "#d8576b"
             ],
             [
              0.6666666666666666,
              "#ed7953"
             ],
             [
              0.7777777777777778,
              "#fb9f3a"
             ],
             [
              0.8888888888888888,
              "#fdca26"
             ],
             [
              1,
              "#f0f921"
             ]
            ],
            "type": "heatmap"
           }
          ],
          "heatmapgl": [
           {
            "colorbar": {
             "outlinewidth": 0,
             "ticks": ""
            },
            "colorscale": [
             [
              0,
              "#0d0887"
             ],
             [
              0.1111111111111111,
              "#46039f"
             ],
             [
              0.2222222222222222,
              "#7201a8"
             ],
             [
              0.3333333333333333,
              "#9c179e"
             ],
             [
              0.4444444444444444,
              "#bd3786"
             ],
             [
              0.5555555555555556,
              "#d8576b"
             ],
             [
              0.6666666666666666,
              "#ed7953"
             ],
             [
              0.7777777777777778,
              "#fb9f3a"
             ],
             [
              0.8888888888888888,
              "#fdca26"
             ],
             [
              1,
              "#f0f921"
             ]
            ],
            "type": "heatmapgl"
           }
          ],
          "histogram": [
           {
            "marker": {
             "pattern": {
              "fillmode": "overlay",
              "size": 10,
              "solidity": 0.2
             }
            },
            "type": "histogram"
           }
          ],
          "histogram2d": [
           {
            "colorbar": {
             "outlinewidth": 0,
             "ticks": ""
            },
            "colorscale": [
             [
              0,
              "#0d0887"
             ],
             [
              0.1111111111111111,
              "#46039f"
             ],
             [
              0.2222222222222222,
              "#7201a8"
             ],
             [
              0.3333333333333333,
              "#9c179e"
             ],
             [
              0.4444444444444444,
              "#bd3786"
             ],
             [
              0.5555555555555556,
              "#d8576b"
             ],
             [
              0.6666666666666666,
              "#ed7953"
             ],
             [
              0.7777777777777778,
              "#fb9f3a"
             ],
             [
              0.8888888888888888,
              "#fdca26"
             ],
             [
              1,
              "#f0f921"
             ]
            ],
            "type": "histogram2d"
           }
          ],
          "histogram2dcontour": [
           {
            "colorbar": {
             "outlinewidth": 0,
             "ticks": ""
            },
            "colorscale": [
             [
              0,
              "#0d0887"
             ],
             [
              0.1111111111111111,
              "#46039f"
             ],
             [
              0.2222222222222222,
              "#7201a8"
             ],
             [
              0.3333333333333333,
              "#9c179e"
             ],
             [
              0.4444444444444444,
              "#bd3786"
             ],
             [
              0.5555555555555556,
              "#d8576b"
             ],
             [
              0.6666666666666666,
              "#ed7953"
             ],
             [
              0.7777777777777778,
              "#fb9f3a"
             ],
             [
              0.8888888888888888,
              "#fdca26"
             ],
             [
              1,
              "#f0f921"
             ]
            ],
            "type": "histogram2dcontour"
           }
          ],
          "mesh3d": [
           {
            "colorbar": {
             "outlinewidth": 0,
             "ticks": ""
            },
            "type": "mesh3d"
           }
          ],
          "parcoords": [
           {
            "line": {
             "colorbar": {
              "outlinewidth": 0,
              "ticks": ""
             }
            },
            "type": "parcoords"
           }
          ],
          "pie": [
           {
            "automargin": true,
            "type": "pie"
           }
          ],
          "scatter": [
           {
            "marker": {
             "colorbar": {
              "outlinewidth": 0,
              "ticks": ""
             }
            },
            "type": "scatter"
           }
          ],
          "scatter3d": [
           {
            "line": {
             "colorbar": {
              "outlinewidth": 0,
              "ticks": ""
             }
            },
            "marker": {
             "colorbar": {
              "outlinewidth": 0,
              "ticks": ""
             }
            },
            "type": "scatter3d"
           }
          ],
          "scattercarpet": [
           {
            "marker": {
             "colorbar": {
              "outlinewidth": 0,
              "ticks": ""
             }
            },
            "type": "scattercarpet"
           }
          ],
          "scattergeo": [
           {
            "marker": {
             "colorbar": {
              "outlinewidth": 0,
              "ticks": ""
             }
            },
            "type": "scattergeo"
           }
          ],
          "scattergl": [
           {
            "marker": {
             "colorbar": {
              "outlinewidth": 0,
              "ticks": ""
             }
            },
            "type": "scattergl"
           }
          ],
          "scattermapbox": [
           {
            "marker": {
             "colorbar": {
              "outlinewidth": 0,
              "ticks": ""
             }
            },
            "type": "scattermapbox"
           }
          ],
          "scatterpolar": [
           {
            "marker": {
             "colorbar": {
              "outlinewidth": 0,
              "ticks": ""
             }
            },
            "type": "scatterpolar"
           }
          ],
          "scatterpolargl": [
           {
            "marker": {
             "colorbar": {
              "outlinewidth": 0,
              "ticks": ""
             }
            },
            "type": "scatterpolargl"
           }
          ],
          "scatterternary": [
           {
            "marker": {
             "colorbar": {
              "outlinewidth": 0,
              "ticks": ""
             }
            },
            "type": "scatterternary"
           }
          ],
          "surface": [
           {
            "colorbar": {
             "outlinewidth": 0,
             "ticks": ""
            },
            "colorscale": [
             [
              0,
              "#0d0887"
             ],
             [
              0.1111111111111111,
              "#46039f"
             ],
             [
              0.2222222222222222,
              "#7201a8"
             ],
             [
              0.3333333333333333,
              "#9c179e"
             ],
             [
              0.4444444444444444,
              "#bd3786"
             ],
             [
              0.5555555555555556,
              "#d8576b"
             ],
             [
              0.6666666666666666,
              "#ed7953"
             ],
             [
              0.7777777777777778,
              "#fb9f3a"
             ],
             [
              0.8888888888888888,
              "#fdca26"
             ],
             [
              1,
              "#f0f921"
             ]
            ],
            "type": "surface"
           }
          ],
          "table": [
           {
            "cells": {
             "fill": {
              "color": "#EBF0F8"
             },
             "line": {
              "color": "white"
             }
            },
            "header": {
             "fill": {
              "color": "#C8D4E3"
             },
             "line": {
              "color": "white"
             }
            },
            "type": "table"
           }
          ]
         },
         "layout": {
          "annotationdefaults": {
           "arrowcolor": "#2a3f5f",
           "arrowhead": 0,
           "arrowwidth": 1
          },
          "autotypenumbers": "strict",
          "coloraxis": {
           "colorbar": {
            "outlinewidth": 0,
            "ticks": ""
           }
          },
          "colorscale": {
           "diverging": [
            [
             0,
             "#8e0152"
            ],
            [
             0.1,
             "#c51b7d"
            ],
            [
             0.2,
             "#de77ae"
            ],
            [
             0.3,
             "#f1b6da"
            ],
            [
             0.4,
             "#fde0ef"
            ],
            [
             0.5,
             "#f7f7f7"
            ],
            [
             0.6,
             "#e6f5d0"
            ],
            [
             0.7,
             "#b8e186"
            ],
            [
             0.8,
             "#7fbc41"
            ],
            [
             0.9,
             "#4d9221"
            ],
            [
             1,
             "#276419"
            ]
           ],
           "sequential": [
            [
             0,
             "#0d0887"
            ],
            [
             0.1111111111111111,
             "#46039f"
            ],
            [
             0.2222222222222222,
             "#7201a8"
            ],
            [
             0.3333333333333333,
             "#9c179e"
            ],
            [
             0.4444444444444444,
             "#bd3786"
            ],
            [
             0.5555555555555556,
             "#d8576b"
            ],
            [
             0.6666666666666666,
             "#ed7953"
            ],
            [
             0.7777777777777778,
             "#fb9f3a"
            ],
            [
             0.8888888888888888,
             "#fdca26"
            ],
            [
             1,
             "#f0f921"
            ]
           ],
           "sequentialminus": [
            [
             0,
             "#0d0887"
            ],
            [
             0.1111111111111111,
             "#46039f"
            ],
            [
             0.2222222222222222,
             "#7201a8"
            ],
            [
             0.3333333333333333,
             "#9c179e"
            ],
            [
             0.4444444444444444,
             "#bd3786"
            ],
            [
             0.5555555555555556,
             "#d8576b"
            ],
            [
             0.6666666666666666,
             "#ed7953"
            ],
            [
             0.7777777777777778,
             "#fb9f3a"
            ],
            [
             0.8888888888888888,
             "#fdca26"
            ],
            [
             1,
             "#f0f921"
            ]
           ]
          },
          "colorway": [
           "#636efa",
           "#EF553B",
           "#00cc96",
           "#ab63fa",
           "#FFA15A",
           "#19d3f3",
           "#FF6692",
           "#B6E880",
           "#FF97FF",
           "#FECB52"
          ],
          "font": {
           "color": "#2a3f5f"
          },
          "geo": {
           "bgcolor": "white",
           "lakecolor": "white",
           "landcolor": "#E5ECF6",
           "showlakes": true,
           "showland": true,
           "subunitcolor": "white"
          },
          "hoverlabel": {
           "align": "left"
          },
          "hovermode": "closest",
          "mapbox": {
           "style": "light"
          },
          "paper_bgcolor": "white",
          "plot_bgcolor": "#E5ECF6",
          "polar": {
           "angularaxis": {
            "gridcolor": "white",
            "linecolor": "white",
            "ticks": ""
           },
           "bgcolor": "#E5ECF6",
           "radialaxis": {
            "gridcolor": "white",
            "linecolor": "white",
            "ticks": ""
           }
          },
          "scene": {
           "xaxis": {
            "backgroundcolor": "#E5ECF6",
            "gridcolor": "white",
            "gridwidth": 2,
            "linecolor": "white",
            "showbackground": true,
            "ticks": "",
            "zerolinecolor": "white"
           },
           "yaxis": {
            "backgroundcolor": "#E5ECF6",
            "gridcolor": "white",
            "gridwidth": 2,
            "linecolor": "white",
            "showbackground": true,
            "ticks": "",
            "zerolinecolor": "white"
           },
           "zaxis": {
            "backgroundcolor": "#E5ECF6",
            "gridcolor": "white",
            "gridwidth": 2,
            "linecolor": "white",
            "showbackground": true,
            "ticks": "",
            "zerolinecolor": "white"
           }
          },
          "shapedefaults": {
           "line": {
            "color": "#2a3f5f"
           }
          },
          "ternary": {
           "aaxis": {
            "gridcolor": "white",
            "linecolor": "white",
            "ticks": ""
           },
           "baxis": {
            "gridcolor": "white",
            "linecolor": "white",
            "ticks": ""
           },
           "bgcolor": "#E5ECF6",
           "caxis": {
            "gridcolor": "white",
            "linecolor": "white",
            "ticks": ""
           }
          },
          "title": {
           "x": 0.05
          },
          "xaxis": {
           "automargin": true,
           "gridcolor": "white",
           "linecolor": "white",
           "ticks": "",
           "title": {
            "standoff": 15
           },
           "zerolinecolor": "white",
           "zerolinewidth": 2
          },
          "yaxis": {
           "automargin": true,
           "gridcolor": "white",
           "linecolor": "white",
           "ticks": "",
           "title": {
            "standoff": 15
           },
           "zerolinecolor": "white",
           "zerolinewidth": 2
          }
         }
        }
       }
      },
      "text/html": [
       "<div>                            <div id=\"80b0a637-640e-46e5-9fa9-7269e524934c\" class=\"plotly-graph-div\" style=\"height:525px; width:100%;\"></div>            <script type=\"text/javascript\">                require([\"plotly\"], function(Plotly) {                    window.PLOTLYENV=window.PLOTLYENV || {};                                    if (document.getElementById(\"80b0a637-640e-46e5-9fa9-7269e524934c\")) {                    Plotly.newPlot(                        \"80b0a637-640e-46e5-9fa9-7269e524934c\",                        [{\"marker\":{\"color\":\"blue\"},\"name\":\"c0\",\"nbinsx\":10,\"opacity\":0.5,\"type\":\"histogram\",\"x\":[0.9928914720933644,0.9578637589138485,0.9975506524375207,0.9975801221767354,0.9991991378050226,0.999695851051601,0.9993950423500009,0.9995632958613669,0.9998137195572788,0.9951845193495956,0.95293241743416,0.9994908729818487,0.9801271554317132,0.9999866560843346,0.95293241743416,0.9884765246154777,0.7319503468590356,0.9600991724007141,0.9801271554317132,0.9998386948073739,0.9999328468461315,0.9984084331000431,0.9999817361387103,0.8237354790371791,0.9953765980167452,0.9934613076922287,0.995383587898572,0.9985721992188868,0.999562190350223,0.9989352321177042,0.996929008502368,0.9999600171362487,0.9979418580888166,0.9470964231123044,0.9962827857955836,0.9999494658358294,0.9979711788877071,0.9989257989790701,0.9999534161653996,0.999857901499638,0.9999502907206862,0.9999730132005287,0.9997677330444876,0.9983283801375801,0.9999646497397066,0.999804832402065,0.9999109229982157,0.999802602545346,0.9998724766676047,0.9999257161092562,0.9999053087751184,0.9995227728204151,0.9986885870108675,0.9997487003812302,0.99968490234865,0.9999058135371931,0.9955105341682586,0.9876473398888068,0.9979949885554279,0.9992678636613392,0.9911208235538862,0.9989749090589894,0.9998740102040032,0.9901260909910887,0.9965133445575797,0.9857406435624042,0.9920602644219257,0.9998375225845194,0.999936038824218,0.999336095854886,0.9970428572538392,0.9980133939727157,0.9880681124122362,0.9989011490619433,0.9833920932007932,0.9973898201916273,0.9994920452059123,0.999463224954635,0.9995807927093004,0.99942854886393,0.9997334369919286,0.9996460249007616,0.9997886745699184,0.9994908729818487]},{\"marker\":{\"color\":\"red\"},\"name\":\"e0\",\"nbinsx\":10,\"opacity\":0.5,\"type\":\"histogram\",\"x\":[0.11089238676881331,0.06133318054840155]},{\"marker\":{\"color\":\"blue\"},\"name\":\"c1\",\"nbinsx\":10,\"opacity\":0.5,\"type\":\"histogram\",\"x\":[0.9941566205618341,0.9883293695035338,0.996491115602613,0.9908080424375568,0.9961779305706921,0.5603441967762132,0.9558444842513094,0.9904482504294455,0.990208573269428,0.986799970271832,0.971203281440217,0.9985128136619513,0.9922955933494053,0.9988270349417285,0.9793138170669821,0.9972198127280547,0.9961779305706921,0.998516340211506,0.989125521067265,0.9912893864075512,0.9945645934670706,0.9969563124666784,0.9943729769414958,0.9980830298600603,0.9955038141274855,0.9914701159118205,0.9958693843167533,0.9955629914039331,0.9973517886165174,0.9813783263677689,0.9971615552649542,0.9935337308991169,0.9890352364539603,0.9989294213237013,0.9918510360220345,0.9986370531901966,0.989764187580804,0.8778919306407915,0.9269999491854796,0.9943439155414446,0.9977403535607315,0.9971125718947526,0.9912893864075512,0.9906413529580341,0.9973690850041401,0.996491115602613,0.9347636958684561,0.9991400737630067,0.9964406760608722,0.9947301554339323,0.9959272896500887,0.9920623542334094,0.9872324053398502,0.9956172866456378,0.9674428578561352,0.9968176908938624,0.9884491923203761,0.9945767175367326,0.9874807325926471,0.9950768065795487,0.9763957586107309,0.9951767466413745,0.9965202140730023,0.9621664558179788,0.9957219006684598,0.9982570735284666,0.9705324980603437,0.9875077368863402,0.9961527705323222,0.9979035660122386,0.9969066237003417,0.9842743495886432,0.9984055547463739,0.9943712076181254,0.9810764701849981,0.9839870778385078,0.9968176908938624,0.9941129700120858,0.8935885316351964,0.9980447101862294,0.9833198291259289,0.9800148927894343,0.9942886720808095,0.9967418890271994,0.989182663120284,0.9974773634007817,0.9935175789800853,0.9922062364744862,0.9960649641279009,0.9968133004605826,0.9749807772765856,0.9935337308991169,0.9983381118301254,0.9915499288542453,0.95322745023322,0.9978778974121457,0.9903675670092815,0.989764187580804,0.9979968825395482,0.9833611320017666,0.9979035660122386,0.9928919519551757,0.9955899912335445,0.9903528940730131,0.9943531090092083,0.997687617272403]},{\"marker\":{\"color\":\"red\"},\"name\":\"e1\",\"nbinsx\":10,\"opacity\":0.5,\"type\":\"histogram\",\"x\":[0.08985125226477869,0.06257945358227929]},{\"marker\":{\"color\":\"blue\"},\"name\":\"c2\",\"nbinsx\":10,\"opacity\":0.5,\"type\":\"histogram\",\"x\":[0.9997377246993547,0.7734188615874406,0.9981679839945263,0.9543713324526792,0.8476362342916397,0.6567692318960539,0.981136139532993,0.9959132347214855,0.9653630298201372,0.9982493515684544,0.9991589525515663,0.9975320011680342,0.9928274658681036,0.9990571247221885,0.9906368741404296,0.9998161724759032,0.8369375500050593,0.9818316835397503,0.7901799492101252,0.9818354566367243,0.5117942182096558,0.9999365577308753,0.991589807232841,0.9981333121473314,0.9077929487090132,0.885973740095955,0.9790746421775495,0.999371234192322,0.9956240645162532,0.9754137235017455,0.9697417763849481,0.9443810033465173,0.9263580144094046,0.9989927712527067,0.9985258080357328,0.9980549963884714,0.9994353665114175,0.8143311078405979,0.620561042153422,0.9994381190730283,0.9967717878333087,0.967607141068833,0.9986397609090614,0.9860909248850214,0.9185191798366273,0.9998161724759032,0.9996806958245605,0.9997918621610902,0.9275377473070139,0.999491987530508,0.9700904576555315,0.9994485284893955,0.9981277724494284,0.9804787621378819,0.9994564239021689,0.9830101836399429,0.9964798945931604,0.9957037965293228,0.9963652347353882,0.9693311574945931,0.9805087091588459,0.999491987530508,0.9970926607214802,0.99410778356881,0.7988706423032133,0.997028135365412,0.992143664274133,0.9859947231819326,0.9996924411236423,0.9912682304669297,0.9978936465583625,0.9700506194355007,0.9839366357196264,0.9967472008359844,0.619816570617926,0.9697417763849481,0.9597758269050083,0.9985591767280436,0.9964465010228032,0.9982393120863784]},{\"marker\":{\"color\":\"red\"},\"name\":\"e2\",\"nbinsx\":10,\"opacity\":0.5,\"type\":\"histogram\",\"x\":[0.2995189615266646,0.3842874208703897,0.17074918231680755,0.15429739572977658,0.10809960708349542,0.14643995052109826,0.27959193862604986,0.17222681039321802]},{\"marker\":{\"color\":\"blue\"},\"name\":\"c3\",\"nbinsx\":10,\"opacity\":0.5,\"type\":\"histogram\",\"x\":[0.9837099492105623,0.9964891404564682,0.8746470444501758,0.9947373651174607,0.9917674504463163,0.7364605267646691,0.786231690647478,0.9686776570818276,0.7554583402257261,0.9995680456373064,0.9967719204431511,0.8552935704127335,0.9902291985479177,0.9997652995252216,0.9976648136712699,0.9995925837613729,0.9979175470928822,0.975994270999349,0.9998810784335785,0.9991659615696352,0.9375389686913675,0.9965055060531995,0.9998202903661582,0.9742469701829107,0.9999353629153152,0.9945428320251312,0.9982998262752897,0.979659524695845,0.99899321288913,0.9947140906484465,0.9994742576722141,0.9705442770489091,0.9108615608133074,0.9996233762285586,0.9609124781122319,0.9312223262628525,0.9999883862631339,0.9930880721222087,0.9922437096448451,0.5067438747052327,0.9999601312164116,0.9987310500656453,0.9999293829361737,0.9999298650812951,0.719896319485818,0.9992788930733315,0.9406169677248495,0.9980100589135262,0.9998929696548605,0.9999944939319518,0.9721611100278947,0.9922960534118549,0.9859440798532089,0.9636928899095074,0.8742787948972355,0.9988790080789864,0.9932553110509709,0.9975177327196348,0.9993284933821575,0.9529296124016435,0.9987111220621513,0.8980132486126745,0.9980929899487753,0.9993439544559174,0.992146281930986,0.9789893444718925,0.999986197177402,0.9999604743724652,0.9999633507031551,0.762439051550353,0.9974225692883592,0.9945192340768302,0.6376129185228203,0.9909927431921272,0.9998093782496307,0.9995794287362063,0.9362737131999603,0.9979175470928822,0.9998202903661582,0.9974216370134691,0.89736828702048,0.9903232044098597,0.9900254150093014,0.8282340717243296,0.9985344215665896,0.9960133549884556,0.9998567529530664]},{\"marker\":{\"color\":\"red\"},\"name\":\"e3\",\"nbinsx\":10,\"opacity\":0.5,\"type\":\"histogram\",\"x\":[0.06263088178573488,0.01530924440017969,0.395144546496652,0.21104037859779834,0.4890092962011791,0.04213785649672893,0.01857352073783984,0.4692301474898566,0.47118766636308823,0.0028923168137630103,0.395144546496652,0.38277859485909993,0.40544479668141103]},{\"marker\":{\"color\":\"blue\"},\"name\":\"c4\",\"nbinsx\":10,\"opacity\":0.5,\"type\":\"histogram\",\"x\":[0.9981149217948625,0.9572317152302459,0.6056350024134244,0.9999476927164851,0.9983364289315358,0.9980602505756527,0.9999561333141888,0.9999561333141888,0.9962357506895021,0.9787949696352836,0.985893009619248,0.9999163677454984,0.872147590141528,0.9494977995553213,0.5919861176036793,0.9996747590766843,0.9768171569996867,0.9740409916429086,0.9996828672413322,0.9868673020990778,0.7790570645435129,0.9787728273584343,0.9983906732375462,0.9987471048302073,0.8803609740550256,0.993716650141886,0.9994494018735568,0.9970652901329508,0.9959781778375311,0.9948456998798098,0.9983183094654674,0.8423798727612332,0.9998113959976925,0.9895081650175832,0.9572317152302459,0.9864601096061086,0.9275177107589353,0.9930523573993177,0.9964895944318498,0.9953453145882283,0.9795134502393023,0.9999634118661951,0.9986543710890936,0.9996029776062073,0.5278807654943584,0.9776067565587453,0.9813236319942276,0.9967045850252306,0.9998634251510723,0.9982669252703356,0.8538037216330611,0.9874906039726552,0.9909232418142683,0.8494208407887419,0.9998645641599001,0.9775947552373851,0.9963815448675496,0.9970652901329508,0.9042657138612491,0.9981553904423519,0.8452140710986283,0.9924465123044053,0.993712175934545,0.970835773390863,0.9999693592255756,0.9941736842867772,0.9854369547186589,0.9964895944318498,0.9967558288859127,0.9988694884407727,0.9999307109604125,0.9984829455244064,0.9999338529471946,0.998571040095822,0.9395761843926632,0.9999004233465295,0.9629523147292178,0.9942399408320846,0.9923608557821479,0.9820701059141106,0.9965742056279889,0.9994601332235303,0.970883253780734,0.5180301913998191,0.9988768163232774,0.9640321687272391,0.997175790509359,0.991952390464098,0.9790172117143822,0.997140740601946,0.9959826360515858,0.9629523147292178,0.7145496685435124,0.999834979201472,0.9999829467507051,0.6424771362455215,0.9911036090203298,0.9978859342484209,0.9965742056279889,0.9885045458055239,0.99285418566075,0.970883253780734,0.9953985994958966,0.9993936247674435,0.9939498937580402,0.9996029776062073]},{\"marker\":{\"color\":\"red\"},\"name\":\"e4\",\"nbinsx\":10,\"opacity\":0.5,\"type\":\"histogram\",\"x\":[0.1496362800795689,0.10650721874381319,0.20103907316318567]},{\"marker\":{\"color\":\"blue\"},\"name\":\"c5\",\"nbinsx\":10,\"opacity\":0.5,\"type\":\"histogram\",\"x\":[0.9843917054432081,0.5277776663124676,0.993816436099381,0.9353977292189227,0.689132682874347,0.9974477971755298,0.9994211917541835,0.9709107634010198,0.8982204724276321,0.9868252164663756,0.9985489307716279,0.9862805674589658,0.9666375909762591,0.9977209078723401,0.9992110701679953,0.9947221510846647,0.9910800361491167,0.9610417127479832,0.9958494006305841,0.9964279649916927,0.9166922104461485,0.9275229109460035,0.9889043628477243,0.6383429671902798,0.9999761939538281,0.9882794577382427,0.996707846613539,0.9780892748027604,0.9051608054729344,0.9999208586241004,0.9981555476727166,0.9633276279161413,0.9803427642973673,0.9996734644410177,0.9999208586241004,0.8460183168014134,0.9998436446965001,0.9057135410681346,0.9986589640247656,0.9999541212130763,0.9997231521823696,0.9275229109460035,0.9803178171056002,0.9706793137271373,0.9980341520894757,0.9998099651587022,0.9963469458534168,0.9802032156414694,0.9998264493360504,0.8071055350106677,0.9896813606356797,0.8617364784406437,0.9981194559800404,0.9985241378540127,0.9787292155587893,0.9389455575405449,0.9656579423357525,0.9985430166188569,0.9898978353017212,0.8317445525718026,0.848401140002091,0.993891093350951,0.8692931202244023,0.9742403120149172,0.9643012065360651,0.9446793393102244,0.7717459275694187,0.9547276666669361,0.9994383356281616,0.9842446050917023,0.9839334178777386,0.9593272173798867,0.5010574401411253,0.9918599816725459,0.996416742144434,0.9985868911787666,0.7940389464282573,0.9827385639986417,0.9990512164327262,0.9926571139088857,0.9864660515671653,0.809763568652063,0.9507303274146205,0.9936280725756013]},{\"marker\":{\"color\":\"red\"},\"name\":\"e5\",\"nbinsx\":10,\"opacity\":0.5,\"type\":\"histogram\",\"x\":[0.15884192335754133,0.31818327221638915,0.14315495781400062,0.3777846567038822,0.3975512906786919,0.07006741199800523,0.09539510448479409,0.46286143712776573,0.11404618691006509,0.2583372933136886,0.2945632055791649,0.47855291532945593]},{\"marker\":{\"color\":\"blue\"},\"name\":\"c6\",\"nbinsx\":10,\"opacity\":0.5,\"type\":\"histogram\",\"x\":[0.9856780892129536,0.9984954856070938,0.9433098119827381,0.940479551409658,0.99998808832815,0.9402852611856399,0.6717585011893391,0.9741895835345519,0.9900841840516047,0.8932865049265737,0.9850043417300193,0.9956816847707879,0.996321485518139,0.9993686664211324,0.999952337042331,0.9999163305055595,0.7149415283866225,0.9984522231217476,0.9975356768569766,0.719498695645214,0.9748200733583556,0.9762204823388413,0.9984935092422098,0.9999899334410711,0.9985999163290805,0.965370628722491,0.999983648768083,0.9514017608874641,0.9986731578362706,0.9902149398005621,0.9987838956454247,0.9993936242062904,0.9966400742371381,0.9974419143103098,0.9985185674390571,0.9994753127834091,0.9991448581597474,0.999962540595378,0.9597927862495014,0.99805317298416,0.8919358399068937,0.9958103626443495,0.9480734996819534,0.8804902817467787,0.9757260159575215,0.9999086578582542,0.9975323709489827,0.9906800166257109,0.9999411895933142,0.8865791120589854,0.9480734996819534,0.9626584509118272,0.9873443438060313,0.8417549523068345,0.8230191453318334,0.9987850743157413,0.9999895175807835,0.961640310654419,0.8861912148118379,0.9991223056624382,0.9741895835345519,0.8653207569547637,0.9893608917316996,0.9999755383389266,0.9616344323327477,0.9959324719904719,0.9966400742371381,0.994477238645247,0.9944263271126436,0.9752297008468825,0.9985257956867869,0.991397985403294,0.9999577216838818,0.9973167694485134,0.9993802901734576,0.9999869694121567,0.9906800166257109,0.9956763950091991,0.9987447384175016,0.9999577649866164,0.9999813329873001,0.9969126177404732,0.9999479098237535,0.9698601464762903,0.9248473106271617,0.6893489466897732,0.8442386196255053,0.9999688564110378,0.9895895642045724,0.9295909681045569,0.973970812974777,0.997282113685725,0.9956898360815598]},{\"marker\":{\"color\":\"red\"},\"name\":\"e6\",\"nbinsx\":10,\"opacity\":0.5,\"type\":\"histogram\",\"x\":[0.20106911440191963,0.14429927554626004,0.18681795112367247,0.3767445729945618,0.21014022603106855]},{\"marker\":{\"color\":\"blue\"},\"name\":\"c7\",\"nbinsx\":10,\"opacity\":0.5,\"type\":\"histogram\",\"x\":[0.88037707335051,0.9912662565327615,0.9871063405011742,0.9951220844430981,0.7359675391658864,0.9649795784101408,0.9976617582324063,0.9927570763623653,0.9843728109752307,0.996717882949533,0.9991353265204448,0.976572947665812,0.9945928080771602,0.9916736665935937,0.9964805604102028,0.9910823766385526,0.9997621339724188,0.9969924855528824,0.9986075465246037,0.9976268772181929,0.9998234215471267,0.9992755005658351,0.9994310022719455,0.9990997066024312,0.9329339838100011,0.9984333239795592,0.9908424008604821,0.9890433726758062,0.8053979028895251,0.9885846930543084,0.8728717638884937,0.9975042665138053,0.9945928080771602,0.996706617740591,0.9998589316190634,0.9855802776302038,0.8303626313797048,0.9926417446605387,0.8038788430597122,0.9751240724607659,0.9999966737925017,0.9929524933494822,0.9996652030965301,0.9999402995279518,0.9948564728138346,0.9850193107676282,0.7179197738519013,0.9983650919666573,0.9996745824976487,0.9958984732749151,0.9992374444997573,0.9962000721048859,0.9991449310419172,0.9923847064168689,0.9722849331372421,0.9987134209499826,0.999221195344959,0.991209703659745,0.9254064600377951,0.9976909798889307,0.9982037051395366,0.9946394178888263,0.9980255441341733,0.7848574860198785,0.9986804284746602,0.8015999143384082,0.8442305430508705,0.9707367740256373,0.9524195887719785,0.9899702278266185,0.9951317631163331,0.9726955068687045,0.9956528237886826,0.6597983794038718,0.9968563445333543,0.9991850747292953,0.9973712210258594,0.9957270742977252,0.9873668655881706,0.9992772013617862,0.9719265767510101,0.9962000721048859,0.9470620241013238,0.9968563445333543,0.9941367490272456,0.9967489791107967,0.9994433533687728,0.986438130663434,0.9998487486752325]},{\"marker\":{\"color\":\"red\"},\"name\":\"e7\",\"nbinsx\":10,\"opacity\":0.5,\"type\":\"histogram\",\"x\":[0.4878381248976037,0.2733926289441579,0.1227791146112063,0.22848367577421486,0.04954764280525302,0.1720012118146427,0.2733926289440234,0.4551593648088065,0.003950471501040203,0.16730326805489568]},{\"marker\":{\"color\":\"blue\"},\"name\":\"c8\",\"nbinsx\":10,\"opacity\":0.5,\"type\":\"histogram\",\"x\":[0.9630727132880851,0.9889358965713001,0.9999457837691413,0.9972487928633327,0.9649389670312217,0.9931456413566809,0.9948561243879035,0.9922746411553095,0.9995241067112347,0.996653542414804,0.9998297898400248,0.9001213064549646,0.9999265616965992,0.9999971621459627,0.9983336894568442,0.955677766897274,0.9940504241280228,0.988295042762961,0.9987162110590251,0.9346042749110752,0.996014286520553,0.9754949902464556,0.8559963150693208,0.8643084986530003,0.9999876103638651,0.9369376091096534,0.9990770037471959,0.9999987381599491,0.9970090212646348,0.998808166955982,0.9915109560134021,0.7686331837039233,0.902344232233953,0.9500688254759109,0.9182761357940783,0.9853241059921191,0.9953981330026879,0.9979887847244622,0.9345278358335982,0.9947214366689234,0.9979954280169225,0.9479892211345555,0.9812473541606703,0.9171390982372308,0.9992179202835338,0.7091847639869936,0.9962262951852089,0.9999966644531717,0.6192130466157574,0.9722345683834638,0.9949109487322401,0.9781016280829863,0.7814576920857262,0.9988082819662963,0.9820604698555158,0.9950803704164429,0.9908343656594614,0.9936973735237236,0.9636977035234763,0.9947768736482538,0.9999511351050114,0.9739468388269023,0.9984816602057023,0.6906757965835851,0.9999939785492026,0.9429734752219857,0.9999964905474028,0.9171390982372308,0.9155585958757649,0.987529267597073,0.8360954533781717,0.9999847802385997,0.9320022000699613,0.9999466028886406,0.9929337673964667,0.9974873646904302,0.9204085089807703,0.9746727179664695,0.9341965313311303,0.9947768736482538,0.9950420320995667,0.6299292277804596,0.9972312038076407,0.9994461651107833,0.9999474835908614,0.7088971570618099,0.9961554242962707,0.9019078326370088,0.9999914250052736,0.9722389855316785,0.9883782481570187,0.9981252305134959,0.9925442409094599,0.703314318717712]},{\"marker\":{\"color\":\"red\"},\"name\":\"e8\",\"nbinsx\":10,\"opacity\":0.5,\"type\":\"histogram\",\"x\":[0.4476789443317822,0.0753429983780265,0.46117067202532347,0.20923216054257554,0.3247799540585326,0.4457497298746257,0.07787269580904567,0.20923216054257554,0.23340321331740208,0.013760479274566547,0.1529554836411707]},{\"marker\":{\"color\":\"blue\"},\"name\":\"c9\",\"nbinsx\":10,\"opacity\":0.5,\"type\":\"histogram\",\"x\":[0.9970090725193163,0.9590979670646824,0.998202922397504,0.9963348163784749,0.9929098934936177,0.9984575547459206,0.9854887422420441,0.9918356455982557,0.9907434971293649,0.9999993117706296,0.9900428037996716,0.9946856988809929,0.9817743642044663,0.9986035874679932,0.9968925077134421,0.9956808716127339,0.9971152199869406,0.9781515848696375,0.954642881852143,0.9988322812952172,0.9883630142132453,0.9965079752099437,0.9970942808560106,0.969489903480274,0.635748257537784,0.9978459835399254,0.9930557251233495,0.9956851856217817,0.9672556265787161,0.9972226062763236,0.9968209351933714,0.9985419957290803,0.9939021195322009,0.9966965476509106,0.8975351114563634,0.9907828681494728,0.9912323739455887,0.9986807397853259,0.9963175838245832,0.9971444706469043,0.9999996058416748,0.9977124066651197,0.9977835270691632,0.9986313916344793,0.9909599935422055,0.9994033295309016,0.8019395640978813,0.9825327230795455,0.9267474469110893,0.9968726359947555,0.7180945761783644,0.8278232468552837,0.9990567086298692,0.9974955391264374,0.9941242206782495,0.9986367433290427,0.9987653232817751,0.9941351333498166,0.9948118057201568,0.9973041633442568,0.9947713306528828,0.9982717349992153,0.9950811689878525,0.9991299201853915,0.8546150786372434,0.9645067392835109,0.9980487281132379,0.9966888771091725,0.944997875525463,0.9999994780681444,0.9488798136231292,0.9973853262155128,0.9535210965617701,0.9368656211758919,0.9808213559363981,0.9792759884745172,0.9972037556650152,0.9473884521511047,0.9966306412242657,0.9999996744980453,0.9984051529443149,0.9046817641359661,0.9956321094715741,0.9530506819625424,0.9990905468917346,0.9637035192460197,0.8922586653790573,0.8644163052788165,0.9973785439528622,0.9671491779014783,0.9809028597554248,0.9727400454926216,0.9858473294164417,0.6234437843664508,0.9759981606269136,0.9999991148215217,0.8534206116226354,0.8705187394858198,0.8498558497395827,0.8599134723836268,0.9665032748171458,0.631235328907352,0.8731801603783664]},{\"marker\":{\"color\":\"red\"},\"name\":\"e9\",\"nbinsx\":10,\"opacity\":0.5,\"type\":\"histogram\",\"x\":[0.3306060916341421,0.05290511143995421,0.05040482198246162,0.2928435861064726,0.14006667488479058,0.2928435861064726,0.05149194785234701,0.39781593294965717]}],                        {\"template\":{\"data\":{\"bar\":[{\"error_x\":{\"color\":\"#2a3f5f\"},\"error_y\":{\"color\":\"#2a3f5f\"},\"marker\":{\"line\":{\"color\":\"#E5ECF6\",\"width\":0.5},\"pattern\":{\"fillmode\":\"overlay\",\"size\":10,\"solidity\":0.2}},\"type\":\"bar\"}],\"barpolar\":[{\"marker\":{\"line\":{\"color\":\"#E5ECF6\",\"width\":0.5},\"pattern\":{\"fillmode\":\"overlay\",\"size\":10,\"solidity\":0.2}},\"type\":\"barpolar\"}],\"carpet\":[{\"aaxis\":{\"endlinecolor\":\"#2a3f5f\",\"gridcolor\":\"white\",\"linecolor\":\"white\",\"minorgridcolor\":\"white\",\"startlinecolor\":\"#2a3f5f\"},\"baxis\":{\"endlinecolor\":\"#2a3f5f\",\"gridcolor\":\"white\",\"linecolor\":\"white\",\"minorgridcolor\":\"white\",\"startlinecolor\":\"#2a3f5f\"},\"type\":\"carpet\"}],\"choropleth\":[{\"colorbar\":{\"outlinewidth\":0,\"ticks\":\"\"},\"type\":\"choropleth\"}],\"contour\":[{\"colorbar\":{\"outlinewidth\":0,\"ticks\":\"\"},\"colorscale\":[[0.0,\"#0d0887\"],[0.1111111111111111,\"#46039f\"],[0.2222222222222222,\"#7201a8\"],[0.3333333333333333,\"#9c179e\"],[0.4444444444444444,\"#bd3786\"],[0.5555555555555556,\"#d8576b\"],[0.6666666666666666,\"#ed7953\"],[0.7777777777777778,\"#fb9f3a\"],[0.8888888888888888,\"#fdca26\"],[1.0,\"#f0f921\"]],\"type\":\"contour\"}],\"contourcarpet\":[{\"colorbar\":{\"outlinewidth\":0,\"ticks\":\"\"},\"type\":\"contourcarpet\"}],\"heatmap\":[{\"colorbar\":{\"outlinewidth\":0,\"ticks\":\"\"},\"colorscale\":[[0.0,\"#0d0887\"],[0.1111111111111111,\"#46039f\"],[0.2222222222222222,\"#7201a8\"],[0.3333333333333333,\"#9c179e\"],[0.4444444444444444,\"#bd3786\"],[0.5555555555555556,\"#d8576b\"],[0.6666666666666666,\"#ed7953\"],[0.7777777777777778,\"#fb9f3a\"],[0.8888888888888888,\"#fdca26\"],[1.0,\"#f0f921\"]],\"type\":\"heatmap\"}],\"heatmapgl\":[{\"colorbar\":{\"outlinewidth\":0,\"ticks\":\"\"},\"colorscale\":[[0.0,\"#0d0887\"],[0.1111111111111111,\"#46039f\"],[0.2222222222222222,\"#7201a8\"],[0.3333333333333333,\"#9c179e\"],[0.4444444444444444,\"#bd3786\"],[0.5555555555555556,\"#d8576b\"],[0.6666666666666666,\"#ed7953\"],[0.7777777777777778,\"#fb9f3a\"],[0.8888888888888888,\"#fdca26\"],[1.0,\"#f0f921\"]],\"type\":\"heatmapgl\"}],\"histogram\":[{\"marker\":{\"pattern\":{\"fillmode\":\"overlay\",\"size\":10,\"solidity\":0.2}},\"type\":\"histogram\"}],\"histogram2d\":[{\"colorbar\":{\"outlinewidth\":0,\"ticks\":\"\"},\"colorscale\":[[0.0,\"#0d0887\"],[0.1111111111111111,\"#46039f\"],[0.2222222222222222,\"#7201a8\"],[0.3333333333333333,\"#9c179e\"],[0.4444444444444444,\"#bd3786\"],[0.5555555555555556,\"#d8576b\"],[0.6666666666666666,\"#ed7953\"],[0.7777777777777778,\"#fb9f3a\"],[0.8888888888888888,\"#fdca26\"],[1.0,\"#f0f921\"]],\"type\":\"histogram2d\"}],\"histogram2dcontour\":[{\"colorbar\":{\"outlinewidth\":0,\"ticks\":\"\"},\"colorscale\":[[0.0,\"#0d0887\"],[0.1111111111111111,\"#46039f\"],[0.2222222222222222,\"#7201a8\"],[0.3333333333333333,\"#9c179e\"],[0.4444444444444444,\"#bd3786\"],[0.5555555555555556,\"#d8576b\"],[0.6666666666666666,\"#ed7953\"],[0.7777777777777778,\"#fb9f3a\"],[0.8888888888888888,\"#fdca26\"],[1.0,\"#f0f921\"]],\"type\":\"histogram2dcontour\"}],\"mesh3d\":[{\"colorbar\":{\"outlinewidth\":0,\"ticks\":\"\"},\"type\":\"mesh3d\"}],\"parcoords\":[{\"line\":{\"colorbar\":{\"outlinewidth\":0,\"ticks\":\"\"}},\"type\":\"parcoords\"}],\"pie\":[{\"automargin\":true,\"type\":\"pie\"}],\"scatter\":[{\"marker\":{\"colorbar\":{\"outlinewidth\":0,\"ticks\":\"\"}},\"type\":\"scatter\"}],\"scatter3d\":[{\"line\":{\"colorbar\":{\"outlinewidth\":0,\"ticks\":\"\"}},\"marker\":{\"colorbar\":{\"outlinewidth\":0,\"ticks\":\"\"}},\"type\":\"scatter3d\"}],\"scattercarpet\":[{\"marker\":{\"colorbar\":{\"outlinewidth\":0,\"ticks\":\"\"}},\"type\":\"scattercarpet\"}],\"scattergeo\":[{\"marker\":{\"colorbar\":{\"outlinewidth\":0,\"ticks\":\"\"}},\"type\":\"scattergeo\"}],\"scattergl\":[{\"marker\":{\"colorbar\":{\"outlinewidth\":0,\"ticks\":\"\"}},\"type\":\"scattergl\"}],\"scattermapbox\":[{\"marker\":{\"colorbar\":{\"outlinewidth\":0,\"ticks\":\"\"}},\"type\":\"scattermapbox\"}],\"scatterpolar\":[{\"marker\":{\"colorbar\":{\"outlinewidth\":0,\"ticks\":\"\"}},\"type\":\"scatterpolar\"}],\"scatterpolargl\":[{\"marker\":{\"colorbar\":{\"outlinewidth\":0,\"ticks\":\"\"}},\"type\":\"scatterpolargl\"}],\"scatterternary\":[{\"marker\":{\"colorbar\":{\"outlinewidth\":0,\"ticks\":\"\"}},\"type\":\"scatterternary\"}],\"surface\":[{\"colorbar\":{\"outlinewidth\":0,\"ticks\":\"\"},\"colorscale\":[[0.0,\"#0d0887\"],[0.1111111111111111,\"#46039f\"],[0.2222222222222222,\"#7201a8\"],[0.3333333333333333,\"#9c179e\"],[0.4444444444444444,\"#bd3786\"],[0.5555555555555556,\"#d8576b\"],[0.6666666666666666,\"#ed7953\"],[0.7777777777777778,\"#fb9f3a\"],[0.8888888888888888,\"#fdca26\"],[1.0,\"#f0f921\"]],\"type\":\"surface\"}],\"table\":[{\"cells\":{\"fill\":{\"color\":\"#EBF0F8\"},\"line\":{\"color\":\"white\"}},\"header\":{\"fill\":{\"color\":\"#C8D4E3\"},\"line\":{\"color\":\"white\"}},\"type\":\"table\"}]},\"layout\":{\"annotationdefaults\":{\"arrowcolor\":\"#2a3f5f\",\"arrowhead\":0,\"arrowwidth\":1},\"autotypenumbers\":\"strict\",\"coloraxis\":{\"colorbar\":{\"outlinewidth\":0,\"ticks\":\"\"}},\"colorscale\":{\"diverging\":[[0,\"#8e0152\"],[0.1,\"#c51b7d\"],[0.2,\"#de77ae\"],[0.3,\"#f1b6da\"],[0.4,\"#fde0ef\"],[0.5,\"#f7f7f7\"],[0.6,\"#e6f5d0\"],[0.7,\"#b8e186\"],[0.8,\"#7fbc41\"],[0.9,\"#4d9221\"],[1,\"#276419\"]],\"sequential\":[[0.0,\"#0d0887\"],[0.1111111111111111,\"#46039f\"],[0.2222222222222222,\"#7201a8\"],[0.3333333333333333,\"#9c179e\"],[0.4444444444444444,\"#bd3786\"],[0.5555555555555556,\"#d8576b\"],[0.6666666666666666,\"#ed7953\"],[0.7777777777777778,\"#fb9f3a\"],[0.8888888888888888,\"#fdca26\"],[1.0,\"#f0f921\"]],\"sequentialminus\":[[0.0,\"#0d0887\"],[0.1111111111111111,\"#46039f\"],[0.2222222222222222,\"#7201a8\"],[0.3333333333333333,\"#9c179e\"],[0.4444444444444444,\"#bd3786\"],[0.5555555555555556,\"#d8576b\"],[0.6666666666666666,\"#ed7953\"],[0.7777777777777778,\"#fb9f3a\"],[0.8888888888888888,\"#fdca26\"],[1.0,\"#f0f921\"]]},\"colorway\":[\"#636efa\",\"#EF553B\",\"#00cc96\",\"#ab63fa\",\"#FFA15A\",\"#19d3f3\",\"#FF6692\",\"#B6E880\",\"#FF97FF\",\"#FECB52\"],\"font\":{\"color\":\"#2a3f5f\"},\"geo\":{\"bgcolor\":\"white\",\"lakecolor\":\"white\",\"landcolor\":\"#E5ECF6\",\"showlakes\":true,\"showland\":true,\"subunitcolor\":\"white\"},\"hoverlabel\":{\"align\":\"left\"},\"hovermode\":\"closest\",\"mapbox\":{\"style\":\"light\"},\"paper_bgcolor\":\"white\",\"plot_bgcolor\":\"#E5ECF6\",\"polar\":{\"angularaxis\":{\"gridcolor\":\"white\",\"linecolor\":\"white\",\"ticks\":\"\"},\"bgcolor\":\"#E5ECF6\",\"radialaxis\":{\"gridcolor\":\"white\",\"linecolor\":\"white\",\"ticks\":\"\"}},\"scene\":{\"xaxis\":{\"backgroundcolor\":\"#E5ECF6\",\"gridcolor\":\"white\",\"gridwidth\":2,\"linecolor\":\"white\",\"showbackground\":true,\"ticks\":\"\",\"zerolinecolor\":\"white\"},\"yaxis\":{\"backgroundcolor\":\"#E5ECF6\",\"gridcolor\":\"white\",\"gridwidth\":2,\"linecolor\":\"white\",\"showbackground\":true,\"ticks\":\"\",\"zerolinecolor\":\"white\"},\"zaxis\":{\"backgroundcolor\":\"#E5ECF6\",\"gridcolor\":\"white\",\"gridwidth\":2,\"linecolor\":\"white\",\"showbackground\":true,\"ticks\":\"\",\"zerolinecolor\":\"white\"}},\"shapedefaults\":{\"line\":{\"color\":\"#2a3f5f\"}},\"ternary\":{\"aaxis\":{\"gridcolor\":\"white\",\"linecolor\":\"white\",\"ticks\":\"\"},\"baxis\":{\"gridcolor\":\"white\",\"linecolor\":\"white\",\"ticks\":\"\"},\"bgcolor\":\"#E5ECF6\",\"caxis\":{\"gridcolor\":\"white\",\"linecolor\":\"white\",\"ticks\":\"\"}},\"title\":{\"x\":0.05},\"xaxis\":{\"automargin\":true,\"gridcolor\":\"white\",\"linecolor\":\"white\",\"ticks\":\"\",\"title\":{\"standoff\":15},\"zerolinecolor\":\"white\",\"zerolinewidth\":2},\"yaxis\":{\"automargin\":true,\"gridcolor\":\"white\",\"linecolor\":\"white\",\"ticks\":\"\",\"title\":{\"standoff\":15},\"zerolinecolor\":\"white\",\"zerolinewidth\":2}}}},                        {\"responsive\": true}                    ).then(function(){\n",
       "                            \n",
       "var gd = document.getElementById('80b0a637-640e-46e5-9fa9-7269e524934c');\n",
       "var x = new MutationObserver(function (mutations, observer) {{\n",
       "        var display = window.getComputedStyle(gd).display;\n",
       "        if (!display || display === 'none') {{\n",
       "            console.log([gd, 'removed!']);\n",
       "            Plotly.purge(gd);\n",
       "            observer.disconnect();\n",
       "        }}\n",
       "}});\n",
       "\n",
       "// Listen for the removal of the full notebook cells\n",
       "var notebookContainer = gd.closest('#notebook-container');\n",
       "if (notebookContainer) {{\n",
       "    x.observe(notebookContainer, {childList: true});\n",
       "}}\n",
       "\n",
       "// Listen for the clearing of the current output cell\n",
       "var outputEl = gd.closest('.output');\n",
       "if (outputEl) {{\n",
       "    x.observe(outputEl, {childList: true});\n",
       "}}\n",
       "\n",
       "                        })                };                });            </script>        </div>"
      ]
     },
     "metadata": {},
     "output_type": "display_data"
    }
   ],
   "source": [
    "import plotly.graph_objects as go\n",
    "yactual = np.asarray(test_y)\n",
    "print()\n",
    "fig=go.Figure()\n",
    "for i in range(10):\n",
    "    items = pred_probas[yactual==i][:,i]\n",
    "    correct = items[items>0.5]\n",
    "    err = items[items<0.5]\n",
    "    fig.add_trace(go.Histogram(x=correct,\n",
    "                           nbinsx=10,name=f\"c{i}\",marker_color='blue',opacity=0.5,\n",
    "                              ))\n",
    "    fig.add_trace(go.Histogram(x=err,\n",
    "                           nbinsx=10,name=f\"e{i}\",marker_color='red',opacity=0.5))\n",
    "fig.show()"
   ]
  },
  {
   "cell_type": "code",
   "execution_count": 144,
   "metadata": {},
   "outputs": [
    {
     "data": {
      "image/png": "[encoded data removed]",
      "text/plain": [
       "<Figure size 432x288 with 1 Axes>"
      ]
     },
     "metadata": {
      "needs_background": "light"
     },
     "output_type": "display_data"
    },
    {
     "name": "stdout",
     "output_type": "stream",
     "text": [
      "(1, 784)\n",
      "[  0   0   0   0   0   0   0   0   0   0   0   0   0   0   0   0   0   0\n",
      "   0   0   0   0   0   0   0   0   0   0   0   0   0   0   0   0   0   0\n",
      "   0   0   0   0   0   0   0   0   0   0   0   0   0   0   0   0   0   0\n",
      "   0   0   0   0   0   0   0   0   0   0   0   0   0   0   0   0   0   0\n",
      "   0   0   0   0   0   0   0   0   0   0   0   0   0   0   0   0   0   0\n",
      "   0   0   0   0   0   0   0   0   0   0   0   0   0   0   0   0   0   0\n",
      "   0   0   0   0   0   0   0   0   0   0   0   0   0   0   0   1  70  35\n",
      "   0   0   0   0   0   0   0   0   0   0   0   0   0   0   0   0   0   0\n",
      "   0   0   0   0   0   0   0  14 243 126   0   0   0   0   0   0   0   0\n",
      "   0   0   0   0   0   0   0   0   0   0   0   0   0   0   0   0   0  18\n",
      " 252 139  17  17  17  15   1   0   0   0   0   0   0   0   0   0   0   0\n",
      "   0   0   0   0   0   0   0   0   0  87 253 255 250 250 250 241  87   0\n",
      "   0   0   0   0   0   0   0   0   0   0   0   0   0   0   0   0   0   0\n",
      "   0 131 253 137 130 130 130 131  48   0   0   0   0   0   0   0   0   0\n",
      "   0   0   0   0   0   0   0   0   0   0   0 129 250   6   0   0   0   0\n",
      "   0   0   0   0   0   0   0   0   0   0   0   0   0   0   0   0   0   0\n",
      "   0   0   7 195 245  16   0   0   0   0   0   0   0   0   0   0   0   0\n",
      "   0   0   0   0   0   0   0   0   0   0   0   0  16 251 166   3   0   0\n",
      "   0   0   0   0   0   0   0   0   0   0   0   0   0   0   0   0   0   0\n",
      "   0   0   0   0  81 255 114   0   0   0   0   0   0   0   0   0   0   0\n",
      "   0   0   0   0   0   0   0   0   0   0   0   0   0   0 134 255 174 130\n",
      " 130 120  31   0   0   0   0   0   0   0   0   0   0   0   0   0   0   0\n",
      "   0   0   0   0   0   0  92 237 246 250 250 255 202  30   0   0   0   0\n",
      "   0   0   0   0   0   0   0   0   0   0   0   0   0   0   0   0   2  17\n",
      "  17  17  18 127 255 149   0   0   0   0   0   0   0   0   0   0   0   0\n",
      "   0   0   0   0   0   0   0   0   0   0   0   0   0   6 210 245  41   0\n",
      "   0   0   0   0   0   0   0   0   0   0   0   0   0   0   0   0   0   0\n",
      "   0   0   0   0   0   0  94 255 124   0   0   0   0   0   0   0   0   0\n",
      "   0   0   0   0   0   0   0   0   0   0   0   0   0   0   0   0  17 250\n",
      " 131   0   0   0   0   0   0   0   0   0   0   0   0   0   0   0   0   0\n",
      "   0   0   0   0   3   0   0   0  12 250 131   0   0   0   0   0   0   0\n",
      "   0   0   0   0   0   0   0   0   0   0   0   0   0  84 187  86  17  17\n",
      " 105 255 130   0   0   0   0   0   0   0   0   0   0   0   0   0   0   0\n",
      "   0   0   0   0   0  95 252 255 250 250 255 221  46   0   0   0   0   0\n",
      "   0   0   0   0   0   0   0   0   0   0   0   0   0   0   0   2  47 127\n",
      " 130 130 129  45   0   0   0   0   0   0   0   0   0   0   0   0   0   0\n",
      "   0   0   0   0   0   0   0   0   0   0   0   0   0   0   0   0   0   0\n",
      "   0   0   0   0   0   0   0   0   0   0   0   0   0   0   0   0   0   0\n",
      "   0   0   0   0   0   0   0   0   0   0   0   0   0   0   0   0   0   0\n",
      "   0   0   0   0   0   0   0   0   0   0   0   0   0   0   0   0   0   0\n",
      "   0   0   0   0   0   0   0   0   0   0   0   0   0   0   0   0   0   0\n",
      "   0   0   0   0   0   0   0   0   0   0   0   0   0   0   0   0   0   0\n",
      "   0   0   0   0   0   0   0   0   0   0   0   0   0   0   0   0   0   0\n",
      "   0   0   0   0   0   0   0   0   0   0]\n"
     ]
    }
   ],
   "source": [
    "from PIL import Image, ImageOps\n",
    "digit_items=[]\n",
    "def rgb2gray(rgb):\n",
    "    return np.dot(rgb[...,:3], [0.2989, 0.5870, 0.1140])\n",
    "with Image.open(\"./data/5.png\") as im:\n",
    "    im_resized = im.resize((28, 28))\n",
    "    data=np.asarray(ImageOps.invert(ImageOps.grayscale(im_resized)))\n",
    "    digit_items.append(data)\n",
    "    plt.imshow(data,cmap=plt.get_cmap('gray'))\n",
    "    plt.show()\n",
    "digit_items = np.asarray(digit_items).reshape(len(digit_items),-1)\n",
    "print(digit_items.shape)\n",
    "print(digit_items[0])"
   ]
  },
  {
   "cell_type": "code",
   "execution_count": 143,
   "metadata": {},
   "outputs": [
    {
     "name": "stdout",
     "output_type": "stream",
     "text": [
      "[5]\n"
     ]
    }
   ],
   "source": [
    "y_pred_digit=clf.predict(digit_items)\n",
    "print(y_pred_digit)"
   ]
  },
  {
   "cell_type": "code",
   "execution_count": null,
   "metadata": {},
   "outputs": [],
   "source": []
  }
 ],
 "metadata": {
  "kernelspec": {
   "display_name": "dsvenv",
   "language": "python",
   "name": "dsvenv"
  },
  "language_info": {
   "codemirror_mode": {
    "name": "ipython",
    "version": 3
   },
   "file_extension": ".py",
   "mimetype": "text/x-python",
   "name": "python",
   "nbconvert_exporter": "python",
   "pygments_lexer": "ipython3",
   "version": "3.6.5"
  }
 },
 "nbformat": 4,
 "nbformat_minor": 4
}
